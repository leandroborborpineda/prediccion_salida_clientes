{
 "cells": [
  {
   "cell_type": "markdown",
   "metadata": {},
   "source": [
    "# Hola Leandro!\n",
    "\n",
    "Mi nombre es David Bautista, soy code reviewer de Tripleten y hoy tengo el gusto de revisar tu proyecto.\n",
    "\n",
    "Cuando vea un error la primera vez, lo señalaré. Deberás encontrarlo y arreglarlo. La intención es que te prepares para un espacio real de trabajo. En un trabajo, el líder de tu equipo hará lo mismo. Si no puedes solucionar el error, te daré más información en la próxima ocasión.\n",
    "\n",
    "Encontrarás mis comentarios más abajo - por favor, no los muevas, no los modifiques ni los borres.\n",
    "\n",
    "¿Cómo lo voy a hacer? Voy a leer detenidamente cada una de las implementaciones que has llevado a cabo para cumplir con lo solicitado. Verás los comentarios de esta forma:\n",
    "\n",
    "<div class=\"alert alert-block alert-success\">\n",
    "<b>Comentario del revisor</b> <a class=\"tocSkip\"></a>\n",
    "    \n",
    "Si todo está perfecto.\n",
    "</div>\n",
    "\n",
    "\n",
    "<div class=\"alert alert-block alert-warning\">\n",
    "<b>Comentario del revisor</b> <a class=\"tocSkip\"></a>\n",
    "    \n",
    "Si tu código está bien pero se puede mejorar o hay algún detalle que le hace falta.\n",
    "</div>\n",
    "\n",
    "\n",
    "<div class=\"alert alert-block alert-danger\">\n",
    "    \n",
    "<b>Comentario del revisor</b> <a class=\"tocSkip\"></a>\n",
    "    \n",
    "    \n",
    "Si de pronto hace falta algo o existe algún problema con tu código o conclusiones.\n",
    "</div>\n",
    "\n",
    "\n",
    "Puedes responderme de esta forma: \n",
    "\n",
    "<div class=\"alert alert-block alert-info\">\n",
    "<b>Respuesta del estudiante</b> <a class=\"tocSkip\"></a>\n",
    "</div>\n",
    "\n",
    "¡Empecemos!"
   ]
  },
  {
   "cell_type": "markdown",
   "metadata": {},
   "source": [
    "# Predicción de salida de clientes del banco Beta Bank con Machine Learning"
   ]
  },
  {
   "cell_type": "markdown",
   "metadata": {},
   "source": [
    "## Introducción"
   ]
  },
  {
   "cell_type": "markdown",
   "metadata": {},
   "source": [
    "Los clientes de Beta Bank se están retirando, cada mes poco a poco. Los analistas descubrieron que es más barato mantener a los clientes existentes que atraer nuevos. Utilizando la información recopilada sobre los clientes durante un tiempo, necesitamos predecir si el cliente dejará el banco pronto. Como información base se tienen los datos sobre el comportamiento pasado de los clientes y la terminación de contratos con el banco.\n",
    "\n",
    "El objetivo es crear un modelo con el máximo valor F1 (media armonica de recall y precisión) posible. Se buscará lograr un valor F1 de al menos 0.59 y verificarlo para el conjunto de prueba. Además, se debe medir la métrica AUC-ROC y compararla con el valor F1."
   ]
  },
  {
   "cell_type": "markdown",
   "metadata": {},
   "source": [
    "### Objetivos"
   ]
  },
  {
   "cell_type": "markdown",
   "metadata": {},
   "source": [
    "- Descargar y preparar los datos. Explicar el procedimiento.\n",
    "- Examinar el equilibrio de clases. Entrenar el modelo sin tener en cuenta el desequilibrio. Describir brevemente tus hallazgos.\n",
    "- Mejorarla calidad del modelo. Utilizar al menos dos enfoques para corregir el desequilibrio de clases. Utilizar conjuntos de entrenamiento y validación para encontrar el mejor modelo y el mejor conjunto de parámetros. \n",
    "- Entrenar diferentes modelos en los conjuntos de entrenamiento y validación. Encontrar el mejor. Describir brevemente los hallazgos.\n",
    "- Realizar la prueba final."
   ]
  },
  {
   "cell_type": "markdown",
   "metadata": {},
   "source": [
    "<div class=\"alert alert-block alert-success\">\n",
    "<b>Comentario del revisor</b> <a class=\"tocSkip\"></a>\n",
    "    \n",
    "Buen trabajo con la introduccíon del proyecto y componentes como la tabla de contenido.\n",
    "    \n",
    "</div>"
   ]
  },
  {
   "cell_type": "markdown",
   "metadata": {},
   "source": [
    "## Inicialización de datos"
   ]
  },
  {
   "cell_type": "markdown",
   "metadata": {},
   "source": [
    "Lo primero que se realizará sera cargar las librerías necesarias para este proyecto:"
   ]
  },
  {
   "cell_type": "code",
   "execution_count": 1,
   "metadata": {},
   "outputs": [],
   "source": [
    "# Cargar todas las librerías\n",
    "from scipy import stats as st\n",
    "import numpy as np\n",
    "import pandas as pd\n",
    "import math\n",
    "import matplotlib.pyplot as plt\n",
    "\n",
    "#Librerías para machine learning\n",
    "from sklearn.model_selection import train_test_split\n",
    "from sklearn.preprocessing import StandardScaler\n",
    "\n",
    "from sklearn.tree import DecisionTreeClassifier\n",
    "from sklearn.linear_model import LogisticRegression\n",
    "from sklearn.ensemble import RandomForestClassifier\n",
    "\n",
    "from sklearn.metrics import accuracy_score\n",
    "from sklearn.metrics import confusion_matrix\n",
    "from sklearn.metrics import recall_score\n",
    "from sklearn.metrics import precision_score\n",
    "from sklearn.metrics import f1_score\n",
    "from sklearn.utils import shuffle\n",
    "\n",
    "from sklearn.metrics import precision_recall_curve\n",
    "from sklearn.metrics import roc_curve\n",
    "from sklearn.metrics import roc_auc_score"
   ]
  },
  {
   "cell_type": "markdown",
   "metadata": {},
   "source": [
    "<div class=\"alert alert-block alert-success\">\n",
    "<b>Comentario del revisor</b> <a class=\"tocSkip\"></a>\n",
    "    \n",
    "Buen trabajo cargando las librerías necesarias para el desarrollo del proyecto. \n",
    "</div>"
   ]
  },
  {
   "cell_type": "markdown",
   "metadata": {},
   "source": [
    "### Cargar datos"
   ]
  },
  {
   "cell_type": "code",
   "execution_count": 2,
   "metadata": {},
   "outputs": [],
   "source": [
    "# Cargar el archivo de datos en un DataFrame\n",
    "data=pd.read_csv('/datasets/Churn.csv')"
   ]
  },
  {
   "cell_type": "markdown",
   "metadata": {},
   "source": [
    "<div class=\"alert alert-block alert-success\">\n",
    "<b>Comentario del revisor</b> <a class=\"tocSkip\"></a>\n",
    "    \n",
    "Buen trabajo cargando los datos, te voy a dar un pequeño consejo de buena práctica. Las buenas prácticas de Python indican que lo ideal a la hora de declarar una variable es óptimo dejar un espacio entre el nombre de la misma, el igual, y el componente de definición, ejemplo:\n",
    "    \n",
    "```\n",
    "data = pd.read_csv('/datasets/churn.csv')\n",
    "\n",
    "```\n",
    "</div>"
   ]
  },
  {
   "cell_type": "code",
   "execution_count": 3,
   "metadata": {},
   "outputs": [
    {
     "data": {
      "text/html": [
       "<div>\n",
       "<style scoped>\n",
       "    .dataframe tbody tr th:only-of-type {\n",
       "        vertical-align: middle;\n",
       "    }\n",
       "\n",
       "    .dataframe tbody tr th {\n",
       "        vertical-align: top;\n",
       "    }\n",
       "\n",
       "    .dataframe thead th {\n",
       "        text-align: right;\n",
       "    }\n",
       "</style>\n",
       "<table border=\"1\" class=\"dataframe\">\n",
       "  <thead>\n",
       "    <tr style=\"text-align: right;\">\n",
       "      <th></th>\n",
       "      <th>RowNumber</th>\n",
       "      <th>CustomerId</th>\n",
       "      <th>Surname</th>\n",
       "      <th>CreditScore</th>\n",
       "      <th>Geography</th>\n",
       "      <th>Gender</th>\n",
       "      <th>Age</th>\n",
       "      <th>Tenure</th>\n",
       "      <th>Balance</th>\n",
       "      <th>NumOfProducts</th>\n",
       "      <th>HasCrCard</th>\n",
       "      <th>IsActiveMember</th>\n",
       "      <th>EstimatedSalary</th>\n",
       "      <th>Exited</th>\n",
       "    </tr>\n",
       "  </thead>\n",
       "  <tbody>\n",
       "    <tr>\n",
       "      <th>0</th>\n",
       "      <td>1</td>\n",
       "      <td>15634602</td>\n",
       "      <td>Hargrave</td>\n",
       "      <td>619</td>\n",
       "      <td>France</td>\n",
       "      <td>Female</td>\n",
       "      <td>42</td>\n",
       "      <td>2.0</td>\n",
       "      <td>0.00</td>\n",
       "      <td>1</td>\n",
       "      <td>1</td>\n",
       "      <td>1</td>\n",
       "      <td>101348.88</td>\n",
       "      <td>1</td>\n",
       "    </tr>\n",
       "    <tr>\n",
       "      <th>1</th>\n",
       "      <td>2</td>\n",
       "      <td>15647311</td>\n",
       "      <td>Hill</td>\n",
       "      <td>608</td>\n",
       "      <td>Spain</td>\n",
       "      <td>Female</td>\n",
       "      <td>41</td>\n",
       "      <td>1.0</td>\n",
       "      <td>83807.86</td>\n",
       "      <td>1</td>\n",
       "      <td>0</td>\n",
       "      <td>1</td>\n",
       "      <td>112542.58</td>\n",
       "      <td>0</td>\n",
       "    </tr>\n",
       "    <tr>\n",
       "      <th>2</th>\n",
       "      <td>3</td>\n",
       "      <td>15619304</td>\n",
       "      <td>Onio</td>\n",
       "      <td>502</td>\n",
       "      <td>France</td>\n",
       "      <td>Female</td>\n",
       "      <td>42</td>\n",
       "      <td>8.0</td>\n",
       "      <td>159660.80</td>\n",
       "      <td>3</td>\n",
       "      <td>1</td>\n",
       "      <td>0</td>\n",
       "      <td>113931.57</td>\n",
       "      <td>1</td>\n",
       "    </tr>\n",
       "    <tr>\n",
       "      <th>3</th>\n",
       "      <td>4</td>\n",
       "      <td>15701354</td>\n",
       "      <td>Boni</td>\n",
       "      <td>699</td>\n",
       "      <td>France</td>\n",
       "      <td>Female</td>\n",
       "      <td>39</td>\n",
       "      <td>1.0</td>\n",
       "      <td>0.00</td>\n",
       "      <td>2</td>\n",
       "      <td>0</td>\n",
       "      <td>0</td>\n",
       "      <td>93826.63</td>\n",
       "      <td>0</td>\n",
       "    </tr>\n",
       "    <tr>\n",
       "      <th>4</th>\n",
       "      <td>5</td>\n",
       "      <td>15737888</td>\n",
       "      <td>Mitchell</td>\n",
       "      <td>850</td>\n",
       "      <td>Spain</td>\n",
       "      <td>Female</td>\n",
       "      <td>43</td>\n",
       "      <td>2.0</td>\n",
       "      <td>125510.82</td>\n",
       "      <td>1</td>\n",
       "      <td>1</td>\n",
       "      <td>1</td>\n",
       "      <td>79084.10</td>\n",
       "      <td>0</td>\n",
       "    </tr>\n",
       "    <tr>\n",
       "      <th>5</th>\n",
       "      <td>6</td>\n",
       "      <td>15574012</td>\n",
       "      <td>Chu</td>\n",
       "      <td>645</td>\n",
       "      <td>Spain</td>\n",
       "      <td>Male</td>\n",
       "      <td>44</td>\n",
       "      <td>8.0</td>\n",
       "      <td>113755.78</td>\n",
       "      <td>2</td>\n",
       "      <td>1</td>\n",
       "      <td>0</td>\n",
       "      <td>149756.71</td>\n",
       "      <td>1</td>\n",
       "    </tr>\n",
       "    <tr>\n",
       "      <th>6</th>\n",
       "      <td>7</td>\n",
       "      <td>15592531</td>\n",
       "      <td>Bartlett</td>\n",
       "      <td>822</td>\n",
       "      <td>France</td>\n",
       "      <td>Male</td>\n",
       "      <td>50</td>\n",
       "      <td>7.0</td>\n",
       "      <td>0.00</td>\n",
       "      <td>2</td>\n",
       "      <td>1</td>\n",
       "      <td>1</td>\n",
       "      <td>10062.80</td>\n",
       "      <td>0</td>\n",
       "    </tr>\n",
       "    <tr>\n",
       "      <th>7</th>\n",
       "      <td>8</td>\n",
       "      <td>15656148</td>\n",
       "      <td>Obinna</td>\n",
       "      <td>376</td>\n",
       "      <td>Germany</td>\n",
       "      <td>Female</td>\n",
       "      <td>29</td>\n",
       "      <td>4.0</td>\n",
       "      <td>115046.74</td>\n",
       "      <td>4</td>\n",
       "      <td>1</td>\n",
       "      <td>0</td>\n",
       "      <td>119346.88</td>\n",
       "      <td>1</td>\n",
       "    </tr>\n",
       "    <tr>\n",
       "      <th>8</th>\n",
       "      <td>9</td>\n",
       "      <td>15792365</td>\n",
       "      <td>He</td>\n",
       "      <td>501</td>\n",
       "      <td>France</td>\n",
       "      <td>Male</td>\n",
       "      <td>44</td>\n",
       "      <td>4.0</td>\n",
       "      <td>142051.07</td>\n",
       "      <td>2</td>\n",
       "      <td>0</td>\n",
       "      <td>1</td>\n",
       "      <td>74940.50</td>\n",
       "      <td>0</td>\n",
       "    </tr>\n",
       "    <tr>\n",
       "      <th>9</th>\n",
       "      <td>10</td>\n",
       "      <td>15592389</td>\n",
       "      <td>H?</td>\n",
       "      <td>684</td>\n",
       "      <td>France</td>\n",
       "      <td>Male</td>\n",
       "      <td>27</td>\n",
       "      <td>2.0</td>\n",
       "      <td>134603.88</td>\n",
       "      <td>1</td>\n",
       "      <td>1</td>\n",
       "      <td>1</td>\n",
       "      <td>71725.73</td>\n",
       "      <td>0</td>\n",
       "    </tr>\n",
       "  </tbody>\n",
       "</table>\n",
       "</div>"
      ],
      "text/plain": [
       "   RowNumber  CustomerId   Surname  CreditScore Geography  Gender  Age  \\\n",
       "0          1    15634602  Hargrave          619    France  Female   42   \n",
       "1          2    15647311      Hill          608     Spain  Female   41   \n",
       "2          3    15619304      Onio          502    France  Female   42   \n",
       "3          4    15701354      Boni          699    France  Female   39   \n",
       "4          5    15737888  Mitchell          850     Spain  Female   43   \n",
       "5          6    15574012       Chu          645     Spain    Male   44   \n",
       "6          7    15592531  Bartlett          822    France    Male   50   \n",
       "7          8    15656148    Obinna          376   Germany  Female   29   \n",
       "8          9    15792365        He          501    France    Male   44   \n",
       "9         10    15592389        H?          684    France    Male   27   \n",
       "\n",
       "   Tenure    Balance  NumOfProducts  HasCrCard  IsActiveMember  \\\n",
       "0     2.0       0.00              1          1               1   \n",
       "1     1.0   83807.86              1          0               1   \n",
       "2     8.0  159660.80              3          1               0   \n",
       "3     1.0       0.00              2          0               0   \n",
       "4     2.0  125510.82              1          1               1   \n",
       "5     8.0  113755.78              2          1               0   \n",
       "6     7.0       0.00              2          1               1   \n",
       "7     4.0  115046.74              4          1               0   \n",
       "8     4.0  142051.07              2          0               1   \n",
       "9     2.0  134603.88              1          1               1   \n",
       "\n",
       "   EstimatedSalary  Exited  \n",
       "0        101348.88       1  \n",
       "1        112542.58       0  \n",
       "2        113931.57       1  \n",
       "3         93826.63       0  \n",
       "4         79084.10       0  \n",
       "5        149756.71       1  \n",
       "6         10062.80       0  \n",
       "7        119346.88       1  \n",
       "8         74940.50       0  \n",
       "9         71725.73       0  "
      ]
     },
     "execution_count": 3,
     "metadata": {},
     "output_type": "execute_result"
    }
   ],
   "source": [
    "#Imprimiendo una muestra de los datos:\n",
    "data.head(10)"
   ]
  },
  {
   "cell_type": "markdown",
   "metadata": {},
   "source": [
    "<div class=\"alert alert-block alert-success\">\n",
    "<b>Comentario del revisor</b> <a class=\"tocSkip\"></a>\n",
    "    \n",
    "Buen detalle el del ``head()``\n",
    "</div>"
   ]
  },
  {
   "cell_type": "markdown",
   "metadata": {},
   "source": [
    "### Exploración de datos iniciales"
   ]
  },
  {
   "cell_type": "markdown",
   "metadata": {},
   "source": [
    "Se procederá a revisar como se encuentran los datos de forma general:"
   ]
  },
  {
   "cell_type": "code",
   "execution_count": 4,
   "metadata": {},
   "outputs": [
    {
     "name": "stdout",
     "output_type": "stream",
     "text": [
      "<class 'pandas.core.frame.DataFrame'>\n",
      "RangeIndex: 10000 entries, 0 to 9999\n",
      "Data columns (total 14 columns):\n",
      " #   Column           Non-Null Count  Dtype  \n",
      "---  ------           --------------  -----  \n",
      " 0   RowNumber        10000 non-null  int64  \n",
      " 1   CustomerId       10000 non-null  int64  \n",
      " 2   Surname          10000 non-null  object \n",
      " 3   CreditScore      10000 non-null  int64  \n",
      " 4   Geography        10000 non-null  object \n",
      " 5   Gender           10000 non-null  object \n",
      " 6   Age              10000 non-null  int64  \n",
      " 7   Tenure           9091 non-null   float64\n",
      " 8   Balance          10000 non-null  float64\n",
      " 9   NumOfProducts    10000 non-null  int64  \n",
      " 10  HasCrCard        10000 non-null  int64  \n",
      " 11  IsActiveMember   10000 non-null  int64  \n",
      " 12  EstimatedSalary  10000 non-null  float64\n",
      " 13  Exited           10000 non-null  int64  \n",
      "dtypes: float64(3), int64(8), object(3)\n",
      "memory usage: 1.1+ MB\n"
     ]
    }
   ],
   "source": [
    "data.info()"
   ]
  },
  {
   "cell_type": "markdown",
   "metadata": {},
   "source": [
    "De la base de datos obtenida se han identificado las siguientes columnas:"
   ]
  },
  {
   "cell_type": "markdown",
   "metadata": {},
   "source": [
    "- `RowNumber`: índice de cadena de datos\n",
    "- `CustomerId`: identificador de cliente único\n",
    "- `Surname`: apellido\n",
    "- `CreditScore`: valor de crédito\n",
    "- `Geography`: país de residencia\n",
    "- `Gender`: sexo\n",
    "- `Age`: edad\n",
    "- `Tenure`: período durante el cual ha madurado el depósito a plazo fijo de un cliente (años)\n",
    "- `Balance`: saldo de la cuenta\n",
    "- `NumOfProducts`: número de productos bancarios utilizados por el cliente\n",
    "- `HasCrCard`: el cliente tiene una tarjeta de crédito (1 - sí; 0 - no)\n",
    "- `IsActiveMember`: actividad del cliente (1 - sí; 0 - no)\n",
    "- `EstimatedSalary`: Salario estimado\n",
    "- `Exited`: El cliente se ha ido (1 - sí; 0 - no). Este es el objetivo de nuestro modelo de predicción\n"
   ]
  },
  {
   "cell_type": "code",
   "execution_count": 5,
   "metadata": {},
   "outputs": [
    {
     "data": {
      "text/html": [
       "<div>\n",
       "<style scoped>\n",
       "    .dataframe tbody tr th:only-of-type {\n",
       "        vertical-align: middle;\n",
       "    }\n",
       "\n",
       "    .dataframe tbody tr th {\n",
       "        vertical-align: top;\n",
       "    }\n",
       "\n",
       "    .dataframe thead th {\n",
       "        text-align: right;\n",
       "    }\n",
       "</style>\n",
       "<table border=\"1\" class=\"dataframe\">\n",
       "  <thead>\n",
       "    <tr style=\"text-align: right;\">\n",
       "      <th></th>\n",
       "      <th>RowNumber</th>\n",
       "      <th>CustomerId</th>\n",
       "      <th>CreditScore</th>\n",
       "      <th>Age</th>\n",
       "      <th>Tenure</th>\n",
       "      <th>Balance</th>\n",
       "      <th>NumOfProducts</th>\n",
       "      <th>HasCrCard</th>\n",
       "      <th>IsActiveMember</th>\n",
       "      <th>EstimatedSalary</th>\n",
       "      <th>Exited</th>\n",
       "    </tr>\n",
       "  </thead>\n",
       "  <tbody>\n",
       "    <tr>\n",
       "      <th>count</th>\n",
       "      <td>10000.00000</td>\n",
       "      <td>1.000000e+04</td>\n",
       "      <td>10000.000000</td>\n",
       "      <td>10000.000000</td>\n",
       "      <td>9091.000000</td>\n",
       "      <td>10000.000000</td>\n",
       "      <td>10000.000000</td>\n",
       "      <td>10000.00000</td>\n",
       "      <td>10000.000000</td>\n",
       "      <td>10000.000000</td>\n",
       "      <td>10000.000000</td>\n",
       "    </tr>\n",
       "    <tr>\n",
       "      <th>mean</th>\n",
       "      <td>5000.50000</td>\n",
       "      <td>1.569094e+07</td>\n",
       "      <td>650.528800</td>\n",
       "      <td>38.921800</td>\n",
       "      <td>4.997690</td>\n",
       "      <td>76485.889288</td>\n",
       "      <td>1.530200</td>\n",
       "      <td>0.70550</td>\n",
       "      <td>0.515100</td>\n",
       "      <td>100090.239881</td>\n",
       "      <td>0.203700</td>\n",
       "    </tr>\n",
       "    <tr>\n",
       "      <th>std</th>\n",
       "      <td>2886.89568</td>\n",
       "      <td>7.193619e+04</td>\n",
       "      <td>96.653299</td>\n",
       "      <td>10.487806</td>\n",
       "      <td>2.894723</td>\n",
       "      <td>62397.405202</td>\n",
       "      <td>0.581654</td>\n",
       "      <td>0.45584</td>\n",
       "      <td>0.499797</td>\n",
       "      <td>57510.492818</td>\n",
       "      <td>0.402769</td>\n",
       "    </tr>\n",
       "    <tr>\n",
       "      <th>min</th>\n",
       "      <td>1.00000</td>\n",
       "      <td>1.556570e+07</td>\n",
       "      <td>350.000000</td>\n",
       "      <td>18.000000</td>\n",
       "      <td>0.000000</td>\n",
       "      <td>0.000000</td>\n",
       "      <td>1.000000</td>\n",
       "      <td>0.00000</td>\n",
       "      <td>0.000000</td>\n",
       "      <td>11.580000</td>\n",
       "      <td>0.000000</td>\n",
       "    </tr>\n",
       "    <tr>\n",
       "      <th>25%</th>\n",
       "      <td>2500.75000</td>\n",
       "      <td>1.562853e+07</td>\n",
       "      <td>584.000000</td>\n",
       "      <td>32.000000</td>\n",
       "      <td>2.000000</td>\n",
       "      <td>0.000000</td>\n",
       "      <td>1.000000</td>\n",
       "      <td>0.00000</td>\n",
       "      <td>0.000000</td>\n",
       "      <td>51002.110000</td>\n",
       "      <td>0.000000</td>\n",
       "    </tr>\n",
       "    <tr>\n",
       "      <th>50%</th>\n",
       "      <td>5000.50000</td>\n",
       "      <td>1.569074e+07</td>\n",
       "      <td>652.000000</td>\n",
       "      <td>37.000000</td>\n",
       "      <td>5.000000</td>\n",
       "      <td>97198.540000</td>\n",
       "      <td>1.000000</td>\n",
       "      <td>1.00000</td>\n",
       "      <td>1.000000</td>\n",
       "      <td>100193.915000</td>\n",
       "      <td>0.000000</td>\n",
       "    </tr>\n",
       "    <tr>\n",
       "      <th>75%</th>\n",
       "      <td>7500.25000</td>\n",
       "      <td>1.575323e+07</td>\n",
       "      <td>718.000000</td>\n",
       "      <td>44.000000</td>\n",
       "      <td>7.000000</td>\n",
       "      <td>127644.240000</td>\n",
       "      <td>2.000000</td>\n",
       "      <td>1.00000</td>\n",
       "      <td>1.000000</td>\n",
       "      <td>149388.247500</td>\n",
       "      <td>0.000000</td>\n",
       "    </tr>\n",
       "    <tr>\n",
       "      <th>max</th>\n",
       "      <td>10000.00000</td>\n",
       "      <td>1.581569e+07</td>\n",
       "      <td>850.000000</td>\n",
       "      <td>92.000000</td>\n",
       "      <td>10.000000</td>\n",
       "      <td>250898.090000</td>\n",
       "      <td>4.000000</td>\n",
       "      <td>1.00000</td>\n",
       "      <td>1.000000</td>\n",
       "      <td>199992.480000</td>\n",
       "      <td>1.000000</td>\n",
       "    </tr>\n",
       "  </tbody>\n",
       "</table>\n",
       "</div>"
      ],
      "text/plain": [
       "         RowNumber    CustomerId   CreditScore           Age       Tenure  \\\n",
       "count  10000.00000  1.000000e+04  10000.000000  10000.000000  9091.000000   \n",
       "mean    5000.50000  1.569094e+07    650.528800     38.921800     4.997690   \n",
       "std     2886.89568  7.193619e+04     96.653299     10.487806     2.894723   \n",
       "min        1.00000  1.556570e+07    350.000000     18.000000     0.000000   \n",
       "25%     2500.75000  1.562853e+07    584.000000     32.000000     2.000000   \n",
       "50%     5000.50000  1.569074e+07    652.000000     37.000000     5.000000   \n",
       "75%     7500.25000  1.575323e+07    718.000000     44.000000     7.000000   \n",
       "max    10000.00000  1.581569e+07    850.000000     92.000000    10.000000   \n",
       "\n",
       "             Balance  NumOfProducts    HasCrCard  IsActiveMember  \\\n",
       "count   10000.000000   10000.000000  10000.00000    10000.000000   \n",
       "mean    76485.889288       1.530200      0.70550        0.515100   \n",
       "std     62397.405202       0.581654      0.45584        0.499797   \n",
       "min         0.000000       1.000000      0.00000        0.000000   \n",
       "25%         0.000000       1.000000      0.00000        0.000000   \n",
       "50%     97198.540000       1.000000      1.00000        1.000000   \n",
       "75%    127644.240000       2.000000      1.00000        1.000000   \n",
       "max    250898.090000       4.000000      1.00000        1.000000   \n",
       "\n",
       "       EstimatedSalary        Exited  \n",
       "count     10000.000000  10000.000000  \n",
       "mean     100090.239881      0.203700  \n",
       "std       57510.492818      0.402769  \n",
       "min          11.580000      0.000000  \n",
       "25%       51002.110000      0.000000  \n",
       "50%      100193.915000      0.000000  \n",
       "75%      149388.247500      0.000000  \n",
       "max      199992.480000      1.000000  "
      ]
     },
     "execution_count": 5,
     "metadata": {},
     "output_type": "execute_result"
    }
   ],
   "source": [
    "data.describe()"
   ]
  },
  {
   "cell_type": "markdown",
   "metadata": {},
   "source": [
    "**Observaciones sobre de los datos**\n",
    "\n",
    "Con una vista general de los datos se ha detectado los siguientes problemas:\n",
    "\n",
    "- Se observa que en la columna \"Tenure\" se tienen datos ausentes, ya que cada columna tiene como máximo 10000 datos y esta solo tiene 9091. Se debe analizar el porque de estos datos ausentes.\n",
    "- Existe una columna denominada \"RowNumber\" la cual es un identificador de filas, sin embargo, este dato puede que no sea de utilidad ya que el dataframe tiene su propio indice y esta columna puede ocasionar interferencia al momento de realizar modelos de predicción, por lo que se optará por retirarla.  \n",
    "- Para el modelado tambien se eliminará la columna CustomerId, ya que no es reelevante para la predicción. Se eliminará posterior a verificar que no existan datos repetidos "
   ]
  },
  {
   "cell_type": "markdown",
   "metadata": {},
   "source": [
    "Se revisará las variables características en busqueda de datos que tengan errores de tipeo o algun otro problema."
   ]
  },
  {
   "cell_type": "code",
   "execution_count": 6,
   "metadata": {},
   "outputs": [
    {
     "data": {
      "text/plain": [
       "array(['France', 'Spain', 'Germany'], dtype=object)"
      ]
     },
     "execution_count": 6,
     "metadata": {},
     "output_type": "execute_result"
    }
   ],
   "source": [
    "data['Geography'].unique()"
   ]
  },
  {
   "cell_type": "code",
   "execution_count": 7,
   "metadata": {},
   "outputs": [
    {
     "data": {
      "text/plain": [
       "array(['Female', 'Male'], dtype=object)"
      ]
     },
     "execution_count": 7,
     "metadata": {},
     "output_type": "execute_result"
    }
   ],
   "source": [
    "data['Gender'].unique()"
   ]
  },
  {
   "cell_type": "markdown",
   "metadata": {},
   "source": [
    "En esta revisión no se han detectado problemas con las variables características, por lo que vamos a seguir con el proceso de correción"
   ]
  },
  {
   "cell_type": "markdown",
   "metadata": {},
   "source": [
    "### Correción de datos:"
   ]
  },
  {
   "cell_type": "markdown",
   "metadata": {},
   "source": [
    "**Revisión de datos ausentes**\n",
    "Como se indicó anteriormente, se ha encontrado datos ausentes en la columna \"Tenure\", los cuales se analizarán y se verificará sus posibles razones\n"
   ]
  },
  {
   "cell_type": "code",
   "execution_count": 8,
   "metadata": {},
   "outputs": [
    {
     "data": {
      "text/plain": [
       "RowNumber            0\n",
       "CustomerId           0\n",
       "Surname              0\n",
       "CreditScore          0\n",
       "Geography            0\n",
       "Gender               0\n",
       "Age                  0\n",
       "Tenure             909\n",
       "Balance              0\n",
       "NumOfProducts        0\n",
       "HasCrCard            0\n",
       "IsActiveMember       0\n",
       "EstimatedSalary      0\n",
       "Exited               0\n",
       "dtype: int64"
      ]
     },
     "execution_count": 8,
     "metadata": {},
     "output_type": "execute_result"
    }
   ],
   "source": [
    "data.isna().sum()"
   ]
  },
  {
   "cell_type": "code",
   "execution_count": 9,
   "metadata": {},
   "outputs": [
    {
     "data": {
      "text/html": [
       "<div>\n",
       "<style scoped>\n",
       "    .dataframe tbody tr th:only-of-type {\n",
       "        vertical-align: middle;\n",
       "    }\n",
       "\n",
       "    .dataframe tbody tr th {\n",
       "        vertical-align: top;\n",
       "    }\n",
       "\n",
       "    .dataframe thead th {\n",
       "        text-align: right;\n",
       "    }\n",
       "</style>\n",
       "<table border=\"1\" class=\"dataframe\">\n",
       "  <thead>\n",
       "    <tr style=\"text-align: right;\">\n",
       "      <th></th>\n",
       "      <th>RowNumber</th>\n",
       "      <th>CustomerId</th>\n",
       "      <th>Surname</th>\n",
       "      <th>CreditScore</th>\n",
       "      <th>Geography</th>\n",
       "      <th>Gender</th>\n",
       "      <th>Age</th>\n",
       "      <th>Tenure</th>\n",
       "      <th>Balance</th>\n",
       "      <th>NumOfProducts</th>\n",
       "      <th>HasCrCard</th>\n",
       "      <th>IsActiveMember</th>\n",
       "      <th>EstimatedSalary</th>\n",
       "      <th>Exited</th>\n",
       "    </tr>\n",
       "  </thead>\n",
       "  <tbody>\n",
       "    <tr>\n",
       "      <th>30</th>\n",
       "      <td>31</td>\n",
       "      <td>15589475</td>\n",
       "      <td>Azikiwe</td>\n",
       "      <td>591</td>\n",
       "      <td>Spain</td>\n",
       "      <td>Female</td>\n",
       "      <td>39</td>\n",
       "      <td>NaN</td>\n",
       "      <td>0.00</td>\n",
       "      <td>3</td>\n",
       "      <td>1</td>\n",
       "      <td>0</td>\n",
       "      <td>140469.38</td>\n",
       "      <td>1</td>\n",
       "    </tr>\n",
       "    <tr>\n",
       "      <th>48</th>\n",
       "      <td>49</td>\n",
       "      <td>15766205</td>\n",
       "      <td>Yin</td>\n",
       "      <td>550</td>\n",
       "      <td>Germany</td>\n",
       "      <td>Male</td>\n",
       "      <td>38</td>\n",
       "      <td>NaN</td>\n",
       "      <td>103391.38</td>\n",
       "      <td>1</td>\n",
       "      <td>0</td>\n",
       "      <td>1</td>\n",
       "      <td>90878.13</td>\n",
       "      <td>0</td>\n",
       "    </tr>\n",
       "    <tr>\n",
       "      <th>51</th>\n",
       "      <td>52</td>\n",
       "      <td>15768193</td>\n",
       "      <td>Trevisani</td>\n",
       "      <td>585</td>\n",
       "      <td>Germany</td>\n",
       "      <td>Male</td>\n",
       "      <td>36</td>\n",
       "      <td>NaN</td>\n",
       "      <td>146050.97</td>\n",
       "      <td>2</td>\n",
       "      <td>0</td>\n",
       "      <td>0</td>\n",
       "      <td>86424.57</td>\n",
       "      <td>0</td>\n",
       "    </tr>\n",
       "    <tr>\n",
       "      <th>53</th>\n",
       "      <td>54</td>\n",
       "      <td>15702298</td>\n",
       "      <td>Parkhill</td>\n",
       "      <td>655</td>\n",
       "      <td>Germany</td>\n",
       "      <td>Male</td>\n",
       "      <td>41</td>\n",
       "      <td>NaN</td>\n",
       "      <td>125561.97</td>\n",
       "      <td>1</td>\n",
       "      <td>0</td>\n",
       "      <td>0</td>\n",
       "      <td>164040.94</td>\n",
       "      <td>1</td>\n",
       "    </tr>\n",
       "    <tr>\n",
       "      <th>60</th>\n",
       "      <td>61</td>\n",
       "      <td>15651280</td>\n",
       "      <td>Hunter</td>\n",
       "      <td>742</td>\n",
       "      <td>Germany</td>\n",
       "      <td>Male</td>\n",
       "      <td>35</td>\n",
       "      <td>NaN</td>\n",
       "      <td>136857.00</td>\n",
       "      <td>1</td>\n",
       "      <td>0</td>\n",
       "      <td>0</td>\n",
       "      <td>84509.57</td>\n",
       "      <td>0</td>\n",
       "    </tr>\n",
       "    <tr>\n",
       "      <th>...</th>\n",
       "      <td>...</td>\n",
       "      <td>...</td>\n",
       "      <td>...</td>\n",
       "      <td>...</td>\n",
       "      <td>...</td>\n",
       "      <td>...</td>\n",
       "      <td>...</td>\n",
       "      <td>...</td>\n",
       "      <td>...</td>\n",
       "      <td>...</td>\n",
       "      <td>...</td>\n",
       "      <td>...</td>\n",
       "      <td>...</td>\n",
       "      <td>...</td>\n",
       "    </tr>\n",
       "    <tr>\n",
       "      <th>9944</th>\n",
       "      <td>9945</td>\n",
       "      <td>15703923</td>\n",
       "      <td>Cameron</td>\n",
       "      <td>744</td>\n",
       "      <td>Germany</td>\n",
       "      <td>Male</td>\n",
       "      <td>41</td>\n",
       "      <td>NaN</td>\n",
       "      <td>190409.34</td>\n",
       "      <td>2</td>\n",
       "      <td>1</td>\n",
       "      <td>1</td>\n",
       "      <td>138361.48</td>\n",
       "      <td>0</td>\n",
       "    </tr>\n",
       "    <tr>\n",
       "      <th>9956</th>\n",
       "      <td>9957</td>\n",
       "      <td>15707861</td>\n",
       "      <td>Nucci</td>\n",
       "      <td>520</td>\n",
       "      <td>France</td>\n",
       "      <td>Female</td>\n",
       "      <td>46</td>\n",
       "      <td>NaN</td>\n",
       "      <td>85216.61</td>\n",
       "      <td>1</td>\n",
       "      <td>1</td>\n",
       "      <td>0</td>\n",
       "      <td>117369.52</td>\n",
       "      <td>1</td>\n",
       "    </tr>\n",
       "    <tr>\n",
       "      <th>9964</th>\n",
       "      <td>9965</td>\n",
       "      <td>15642785</td>\n",
       "      <td>Douglas</td>\n",
       "      <td>479</td>\n",
       "      <td>France</td>\n",
       "      <td>Male</td>\n",
       "      <td>34</td>\n",
       "      <td>NaN</td>\n",
       "      <td>117593.48</td>\n",
       "      <td>2</td>\n",
       "      <td>0</td>\n",
       "      <td>0</td>\n",
       "      <td>113308.29</td>\n",
       "      <td>0</td>\n",
       "    </tr>\n",
       "    <tr>\n",
       "      <th>9985</th>\n",
       "      <td>9986</td>\n",
       "      <td>15586914</td>\n",
       "      <td>Nepean</td>\n",
       "      <td>659</td>\n",
       "      <td>France</td>\n",
       "      <td>Male</td>\n",
       "      <td>36</td>\n",
       "      <td>NaN</td>\n",
       "      <td>123841.49</td>\n",
       "      <td>2</td>\n",
       "      <td>1</td>\n",
       "      <td>0</td>\n",
       "      <td>96833.00</td>\n",
       "      <td>0</td>\n",
       "    </tr>\n",
       "    <tr>\n",
       "      <th>9999</th>\n",
       "      <td>10000</td>\n",
       "      <td>15628319</td>\n",
       "      <td>Walker</td>\n",
       "      <td>792</td>\n",
       "      <td>France</td>\n",
       "      <td>Female</td>\n",
       "      <td>28</td>\n",
       "      <td>NaN</td>\n",
       "      <td>130142.79</td>\n",
       "      <td>1</td>\n",
       "      <td>1</td>\n",
       "      <td>0</td>\n",
       "      <td>38190.78</td>\n",
       "      <td>0</td>\n",
       "    </tr>\n",
       "  </tbody>\n",
       "</table>\n",
       "<p>909 rows × 14 columns</p>\n",
       "</div>"
      ],
      "text/plain": [
       "      RowNumber  CustomerId    Surname  CreditScore Geography  Gender  Age  \\\n",
       "30           31    15589475    Azikiwe          591     Spain  Female   39   \n",
       "48           49    15766205        Yin          550   Germany    Male   38   \n",
       "51           52    15768193  Trevisani          585   Germany    Male   36   \n",
       "53           54    15702298   Parkhill          655   Germany    Male   41   \n",
       "60           61    15651280     Hunter          742   Germany    Male   35   \n",
       "...         ...         ...        ...          ...       ...     ...  ...   \n",
       "9944       9945    15703923    Cameron          744   Germany    Male   41   \n",
       "9956       9957    15707861      Nucci          520    France  Female   46   \n",
       "9964       9965    15642785    Douglas          479    France    Male   34   \n",
       "9985       9986    15586914     Nepean          659    France    Male   36   \n",
       "9999      10000    15628319     Walker          792    France  Female   28   \n",
       "\n",
       "      Tenure    Balance  NumOfProducts  HasCrCard  IsActiveMember  \\\n",
       "30       NaN       0.00              3          1               0   \n",
       "48       NaN  103391.38              1          0               1   \n",
       "51       NaN  146050.97              2          0               0   \n",
       "53       NaN  125561.97              1          0               0   \n",
       "60       NaN  136857.00              1          0               0   \n",
       "...      ...        ...            ...        ...             ...   \n",
       "9944     NaN  190409.34              2          1               1   \n",
       "9956     NaN   85216.61              1          1               0   \n",
       "9964     NaN  117593.48              2          0               0   \n",
       "9985     NaN  123841.49              2          1               0   \n",
       "9999     NaN  130142.79              1          1               0   \n",
       "\n",
       "      EstimatedSalary  Exited  \n",
       "30          140469.38       1  \n",
       "48           90878.13       0  \n",
       "51           86424.57       0  \n",
       "53          164040.94       1  \n",
       "60           84509.57       0  \n",
       "...               ...     ...  \n",
       "9944        138361.48       0  \n",
       "9956        117369.52       1  \n",
       "9964        113308.29       0  \n",
       "9985         96833.00       0  \n",
       "9999         38190.78       0  \n",
       "\n",
       "[909 rows x 14 columns]"
      ]
     },
     "execution_count": 9,
     "metadata": {},
     "output_type": "execute_result"
    }
   ],
   "source": [
    "data.loc[data['Tenure'].isna()]"
   ]
  },
  {
   "cell_type": "markdown",
   "metadata": {},
   "source": [
    "No se han observado patrones para las filas donde el valor de \"Tenure\" es NaN. Se analizará la suposición de que estos valores sean NaN, debido a que no se han colocado depositos en plazo fijo, ´por lo que se rellenará de 0s\n"
   ]
  },
  {
   "cell_type": "code",
   "execution_count": 10,
   "metadata": {},
   "outputs": [
    {
     "data": {
      "text/plain": [
       "array([ 2.,  1.,  8.,  7.,  4.,  6.,  3., 10.,  5.,  9.,  0., nan])"
      ]
     },
     "execution_count": 10,
     "metadata": {},
     "output_type": "execute_result"
    }
   ],
   "source": [
    "data['Tenure'].unique()"
   ]
  },
  {
   "cell_type": "code",
   "execution_count": 11,
   "metadata": {},
   "outputs": [],
   "source": [
    "data['Tenure']=data['Tenure'].fillna(0)"
   ]
  },
  {
   "cell_type": "markdown",
   "metadata": {},
   "source": [
    "Ahora vamos a eliminar la columna RowNumber, ya que es solo un indice igual al que ya nos proporciona el dataframe, por lo que no es necesario"
   ]
  },
  {
   "cell_type": "code",
   "execution_count": 12,
   "metadata": {},
   "outputs": [
    {
     "data": {
      "text/html": [
       "<div>\n",
       "<style scoped>\n",
       "    .dataframe tbody tr th:only-of-type {\n",
       "        vertical-align: middle;\n",
       "    }\n",
       "\n",
       "    .dataframe tbody tr th {\n",
       "        vertical-align: top;\n",
       "    }\n",
       "\n",
       "    .dataframe thead th {\n",
       "        text-align: right;\n",
       "    }\n",
       "</style>\n",
       "<table border=\"1\" class=\"dataframe\">\n",
       "  <thead>\n",
       "    <tr style=\"text-align: right;\">\n",
       "      <th></th>\n",
       "      <th>CustomerId</th>\n",
       "      <th>Surname</th>\n",
       "      <th>CreditScore</th>\n",
       "      <th>Geography</th>\n",
       "      <th>Gender</th>\n",
       "      <th>Age</th>\n",
       "      <th>Tenure</th>\n",
       "      <th>Balance</th>\n",
       "      <th>NumOfProducts</th>\n",
       "      <th>HasCrCard</th>\n",
       "      <th>IsActiveMember</th>\n",
       "      <th>EstimatedSalary</th>\n",
       "      <th>Exited</th>\n",
       "    </tr>\n",
       "  </thead>\n",
       "  <tbody>\n",
       "    <tr>\n",
       "      <th>0</th>\n",
       "      <td>15634602</td>\n",
       "      <td>Hargrave</td>\n",
       "      <td>619</td>\n",
       "      <td>France</td>\n",
       "      <td>Female</td>\n",
       "      <td>42</td>\n",
       "      <td>2.0</td>\n",
       "      <td>0.00</td>\n",
       "      <td>1</td>\n",
       "      <td>1</td>\n",
       "      <td>1</td>\n",
       "      <td>101348.88</td>\n",
       "      <td>1</td>\n",
       "    </tr>\n",
       "    <tr>\n",
       "      <th>1</th>\n",
       "      <td>15647311</td>\n",
       "      <td>Hill</td>\n",
       "      <td>608</td>\n",
       "      <td>Spain</td>\n",
       "      <td>Female</td>\n",
       "      <td>41</td>\n",
       "      <td>1.0</td>\n",
       "      <td>83807.86</td>\n",
       "      <td>1</td>\n",
       "      <td>0</td>\n",
       "      <td>1</td>\n",
       "      <td>112542.58</td>\n",
       "      <td>0</td>\n",
       "    </tr>\n",
       "    <tr>\n",
       "      <th>2</th>\n",
       "      <td>15619304</td>\n",
       "      <td>Onio</td>\n",
       "      <td>502</td>\n",
       "      <td>France</td>\n",
       "      <td>Female</td>\n",
       "      <td>42</td>\n",
       "      <td>8.0</td>\n",
       "      <td>159660.80</td>\n",
       "      <td>3</td>\n",
       "      <td>1</td>\n",
       "      <td>0</td>\n",
       "      <td>113931.57</td>\n",
       "      <td>1</td>\n",
       "    </tr>\n",
       "    <tr>\n",
       "      <th>3</th>\n",
       "      <td>15701354</td>\n",
       "      <td>Boni</td>\n",
       "      <td>699</td>\n",
       "      <td>France</td>\n",
       "      <td>Female</td>\n",
       "      <td>39</td>\n",
       "      <td>1.0</td>\n",
       "      <td>0.00</td>\n",
       "      <td>2</td>\n",
       "      <td>0</td>\n",
       "      <td>0</td>\n",
       "      <td>93826.63</td>\n",
       "      <td>0</td>\n",
       "    </tr>\n",
       "    <tr>\n",
       "      <th>4</th>\n",
       "      <td>15737888</td>\n",
       "      <td>Mitchell</td>\n",
       "      <td>850</td>\n",
       "      <td>Spain</td>\n",
       "      <td>Female</td>\n",
       "      <td>43</td>\n",
       "      <td>2.0</td>\n",
       "      <td>125510.82</td>\n",
       "      <td>1</td>\n",
       "      <td>1</td>\n",
       "      <td>1</td>\n",
       "      <td>79084.10</td>\n",
       "      <td>0</td>\n",
       "    </tr>\n",
       "    <tr>\n",
       "      <th>...</th>\n",
       "      <td>...</td>\n",
       "      <td>...</td>\n",
       "      <td>...</td>\n",
       "      <td>...</td>\n",
       "      <td>...</td>\n",
       "      <td>...</td>\n",
       "      <td>...</td>\n",
       "      <td>...</td>\n",
       "      <td>...</td>\n",
       "      <td>...</td>\n",
       "      <td>...</td>\n",
       "      <td>...</td>\n",
       "      <td>...</td>\n",
       "    </tr>\n",
       "    <tr>\n",
       "      <th>9995</th>\n",
       "      <td>15606229</td>\n",
       "      <td>Obijiaku</td>\n",
       "      <td>771</td>\n",
       "      <td>France</td>\n",
       "      <td>Male</td>\n",
       "      <td>39</td>\n",
       "      <td>5.0</td>\n",
       "      <td>0.00</td>\n",
       "      <td>2</td>\n",
       "      <td>1</td>\n",
       "      <td>0</td>\n",
       "      <td>96270.64</td>\n",
       "      <td>0</td>\n",
       "    </tr>\n",
       "    <tr>\n",
       "      <th>9996</th>\n",
       "      <td>15569892</td>\n",
       "      <td>Johnstone</td>\n",
       "      <td>516</td>\n",
       "      <td>France</td>\n",
       "      <td>Male</td>\n",
       "      <td>35</td>\n",
       "      <td>10.0</td>\n",
       "      <td>57369.61</td>\n",
       "      <td>1</td>\n",
       "      <td>1</td>\n",
       "      <td>1</td>\n",
       "      <td>101699.77</td>\n",
       "      <td>0</td>\n",
       "    </tr>\n",
       "    <tr>\n",
       "      <th>9997</th>\n",
       "      <td>15584532</td>\n",
       "      <td>Liu</td>\n",
       "      <td>709</td>\n",
       "      <td>France</td>\n",
       "      <td>Female</td>\n",
       "      <td>36</td>\n",
       "      <td>7.0</td>\n",
       "      <td>0.00</td>\n",
       "      <td>1</td>\n",
       "      <td>0</td>\n",
       "      <td>1</td>\n",
       "      <td>42085.58</td>\n",
       "      <td>1</td>\n",
       "    </tr>\n",
       "    <tr>\n",
       "      <th>9998</th>\n",
       "      <td>15682355</td>\n",
       "      <td>Sabbatini</td>\n",
       "      <td>772</td>\n",
       "      <td>Germany</td>\n",
       "      <td>Male</td>\n",
       "      <td>42</td>\n",
       "      <td>3.0</td>\n",
       "      <td>75075.31</td>\n",
       "      <td>2</td>\n",
       "      <td>1</td>\n",
       "      <td>0</td>\n",
       "      <td>92888.52</td>\n",
       "      <td>1</td>\n",
       "    </tr>\n",
       "    <tr>\n",
       "      <th>9999</th>\n",
       "      <td>15628319</td>\n",
       "      <td>Walker</td>\n",
       "      <td>792</td>\n",
       "      <td>France</td>\n",
       "      <td>Female</td>\n",
       "      <td>28</td>\n",
       "      <td>0.0</td>\n",
       "      <td>130142.79</td>\n",
       "      <td>1</td>\n",
       "      <td>1</td>\n",
       "      <td>0</td>\n",
       "      <td>38190.78</td>\n",
       "      <td>0</td>\n",
       "    </tr>\n",
       "  </tbody>\n",
       "</table>\n",
       "<p>10000 rows × 13 columns</p>\n",
       "</div>"
      ],
      "text/plain": [
       "      CustomerId    Surname  CreditScore Geography  Gender  Age  Tenure  \\\n",
       "0       15634602   Hargrave          619    France  Female   42     2.0   \n",
       "1       15647311       Hill          608     Spain  Female   41     1.0   \n",
       "2       15619304       Onio          502    France  Female   42     8.0   \n",
       "3       15701354       Boni          699    France  Female   39     1.0   \n",
       "4       15737888   Mitchell          850     Spain  Female   43     2.0   \n",
       "...          ...        ...          ...       ...     ...  ...     ...   \n",
       "9995    15606229   Obijiaku          771    France    Male   39     5.0   \n",
       "9996    15569892  Johnstone          516    France    Male   35    10.0   \n",
       "9997    15584532        Liu          709    France  Female   36     7.0   \n",
       "9998    15682355  Sabbatini          772   Germany    Male   42     3.0   \n",
       "9999    15628319     Walker          792    France  Female   28     0.0   \n",
       "\n",
       "        Balance  NumOfProducts  HasCrCard  IsActiveMember  EstimatedSalary  \\\n",
       "0          0.00              1          1               1        101348.88   \n",
       "1      83807.86              1          0               1        112542.58   \n",
       "2     159660.80              3          1               0        113931.57   \n",
       "3          0.00              2          0               0         93826.63   \n",
       "4     125510.82              1          1               1         79084.10   \n",
       "...         ...            ...        ...             ...              ...   \n",
       "9995       0.00              2          1               0         96270.64   \n",
       "9996   57369.61              1          1               1        101699.77   \n",
       "9997       0.00              1          0               1         42085.58   \n",
       "9998   75075.31              2          1               0         92888.52   \n",
       "9999  130142.79              1          1               0         38190.78   \n",
       "\n",
       "      Exited  \n",
       "0          1  \n",
       "1          0  \n",
       "2          1  \n",
       "3          0  \n",
       "4          0  \n",
       "...      ...  \n",
       "9995       0  \n",
       "9996       0  \n",
       "9997       1  \n",
       "9998       1  \n",
       "9999       0  \n",
       "\n",
       "[10000 rows x 13 columns]"
      ]
     },
     "execution_count": 12,
     "metadata": {},
     "output_type": "execute_result"
    }
   ],
   "source": [
    "data.drop('RowNumber', axis=1, inplace= True)\n",
    "data"
   ]
  },
  {
   "cell_type": "markdown",
   "metadata": {},
   "source": [
    "### Revisión de datos duplicados\n",
    "\n",
    "Se revisará en caso de existir datos duplicados. Dado que existe un identificador único por cada cliente, si existen duplicados serán eliminados "
   ]
  },
  {
   "cell_type": "code",
   "execution_count": 13,
   "metadata": {},
   "outputs": [
    {
     "data": {
      "text/plain": [
       "0"
      ]
     },
     "execution_count": 13,
     "metadata": {},
     "output_type": "execute_result"
    }
   ],
   "source": [
    "data.duplicated().sum()"
   ]
  },
  {
   "cell_type": "markdown",
   "metadata": {},
   "source": [
    "Se verificará si existe algun cliente con el mismo CustomerId:"
   ]
  },
  {
   "cell_type": "code",
   "execution_count": 14,
   "metadata": {},
   "outputs": [
    {
     "data": {
      "text/plain": [
       "0"
      ]
     },
     "execution_count": 14,
     "metadata": {},
     "output_type": "execute_result"
    }
   ],
   "source": [
    "data['CustomerId'].duplicated().sum()"
   ]
  },
  {
   "cell_type": "markdown",
   "metadata": {},
   "source": [
    "Con esto se ha terminado la revisión de los datos, y vamos a proceder con la siguiente parte del proyecto que es la preparación de los datos para su entrenamiento con diferentes modelos"
   ]
  },
  {
   "cell_type": "markdown",
   "metadata": {},
   "source": [
    "<div class=\"alert alert-block alert-success\">\n",
    "<b>Comentario del revisor</b> <a class=\"tocSkip\"></a>\n",
    "    \n",
    "Hola Leandro, muy buen trabajo con la sección de exploración de los datos. Contemplas una gama de aspectos interesantes y coherentes.\n",
    "</div>"
   ]
  },
  {
   "cell_type": "markdown",
   "metadata": {},
   "source": [
    "## Preparación de datos"
   ]
  },
  {
   "cell_type": "markdown",
   "metadata": {},
   "source": [
    "Primero vamos a separar los datos entre las características y el objetivo.  Se retirará las columnas que no aportan información reelevante para los modelos de clasificación. Las columnas que consideramos no se requieren para realizar la clasificación son: CustomerId, Surname. Posteriormente se realizará una codificación OHE para que las variables características tengan codificación numérica.  Esta será nuestra base de datos pre procesada.\n",
    "\n",
    "Luego se va a dividir los datos en un conjunto de entrenamiento y otro de validación (75-25%). Y esta será nuestra información \n"
   ]
  },
  {
   "cell_type": "markdown",
   "metadata": {},
   "source": [
    "### Preprocesamiento de datos"
   ]
  },
  {
   "cell_type": "code",
   "execution_count": 15,
   "metadata": {},
   "outputs": [
    {
     "data": {
      "text/html": [
       "<div>\n",
       "<style scoped>\n",
       "    .dataframe tbody tr th:only-of-type {\n",
       "        vertical-align: middle;\n",
       "    }\n",
       "\n",
       "    .dataframe tbody tr th {\n",
       "        vertical-align: top;\n",
       "    }\n",
       "\n",
       "    .dataframe thead th {\n",
       "        text-align: right;\n",
       "    }\n",
       "</style>\n",
       "<table border=\"1\" class=\"dataframe\">\n",
       "  <thead>\n",
       "    <tr style=\"text-align: right;\">\n",
       "      <th></th>\n",
       "      <th>CreditScore</th>\n",
       "      <th>Geography</th>\n",
       "      <th>Gender</th>\n",
       "      <th>Age</th>\n",
       "      <th>Tenure</th>\n",
       "      <th>Balance</th>\n",
       "      <th>NumOfProducts</th>\n",
       "      <th>HasCrCard</th>\n",
       "      <th>IsActiveMember</th>\n",
       "      <th>EstimatedSalary</th>\n",
       "      <th>Exited</th>\n",
       "    </tr>\n",
       "  </thead>\n",
       "  <tbody>\n",
       "    <tr>\n",
       "      <th>0</th>\n",
       "      <td>619</td>\n",
       "      <td>France</td>\n",
       "      <td>Female</td>\n",
       "      <td>42</td>\n",
       "      <td>2.0</td>\n",
       "      <td>0.00</td>\n",
       "      <td>1</td>\n",
       "      <td>1</td>\n",
       "      <td>1</td>\n",
       "      <td>101348.88</td>\n",
       "      <td>1</td>\n",
       "    </tr>\n",
       "    <tr>\n",
       "      <th>1</th>\n",
       "      <td>608</td>\n",
       "      <td>Spain</td>\n",
       "      <td>Female</td>\n",
       "      <td>41</td>\n",
       "      <td>1.0</td>\n",
       "      <td>83807.86</td>\n",
       "      <td>1</td>\n",
       "      <td>0</td>\n",
       "      <td>1</td>\n",
       "      <td>112542.58</td>\n",
       "      <td>0</td>\n",
       "    </tr>\n",
       "    <tr>\n",
       "      <th>2</th>\n",
       "      <td>502</td>\n",
       "      <td>France</td>\n",
       "      <td>Female</td>\n",
       "      <td>42</td>\n",
       "      <td>8.0</td>\n",
       "      <td>159660.80</td>\n",
       "      <td>3</td>\n",
       "      <td>1</td>\n",
       "      <td>0</td>\n",
       "      <td>113931.57</td>\n",
       "      <td>1</td>\n",
       "    </tr>\n",
       "    <tr>\n",
       "      <th>3</th>\n",
       "      <td>699</td>\n",
       "      <td>France</td>\n",
       "      <td>Female</td>\n",
       "      <td>39</td>\n",
       "      <td>1.0</td>\n",
       "      <td>0.00</td>\n",
       "      <td>2</td>\n",
       "      <td>0</td>\n",
       "      <td>0</td>\n",
       "      <td>93826.63</td>\n",
       "      <td>0</td>\n",
       "    </tr>\n",
       "    <tr>\n",
       "      <th>4</th>\n",
       "      <td>850</td>\n",
       "      <td>Spain</td>\n",
       "      <td>Female</td>\n",
       "      <td>43</td>\n",
       "      <td>2.0</td>\n",
       "      <td>125510.82</td>\n",
       "      <td>1</td>\n",
       "      <td>1</td>\n",
       "      <td>1</td>\n",
       "      <td>79084.10</td>\n",
       "      <td>0</td>\n",
       "    </tr>\n",
       "    <tr>\n",
       "      <th>...</th>\n",
       "      <td>...</td>\n",
       "      <td>...</td>\n",
       "      <td>...</td>\n",
       "      <td>...</td>\n",
       "      <td>...</td>\n",
       "      <td>...</td>\n",
       "      <td>...</td>\n",
       "      <td>...</td>\n",
       "      <td>...</td>\n",
       "      <td>...</td>\n",
       "      <td>...</td>\n",
       "    </tr>\n",
       "    <tr>\n",
       "      <th>9995</th>\n",
       "      <td>771</td>\n",
       "      <td>France</td>\n",
       "      <td>Male</td>\n",
       "      <td>39</td>\n",
       "      <td>5.0</td>\n",
       "      <td>0.00</td>\n",
       "      <td>2</td>\n",
       "      <td>1</td>\n",
       "      <td>0</td>\n",
       "      <td>96270.64</td>\n",
       "      <td>0</td>\n",
       "    </tr>\n",
       "    <tr>\n",
       "      <th>9996</th>\n",
       "      <td>516</td>\n",
       "      <td>France</td>\n",
       "      <td>Male</td>\n",
       "      <td>35</td>\n",
       "      <td>10.0</td>\n",
       "      <td>57369.61</td>\n",
       "      <td>1</td>\n",
       "      <td>1</td>\n",
       "      <td>1</td>\n",
       "      <td>101699.77</td>\n",
       "      <td>0</td>\n",
       "    </tr>\n",
       "    <tr>\n",
       "      <th>9997</th>\n",
       "      <td>709</td>\n",
       "      <td>France</td>\n",
       "      <td>Female</td>\n",
       "      <td>36</td>\n",
       "      <td>7.0</td>\n",
       "      <td>0.00</td>\n",
       "      <td>1</td>\n",
       "      <td>0</td>\n",
       "      <td>1</td>\n",
       "      <td>42085.58</td>\n",
       "      <td>1</td>\n",
       "    </tr>\n",
       "    <tr>\n",
       "      <th>9998</th>\n",
       "      <td>772</td>\n",
       "      <td>Germany</td>\n",
       "      <td>Male</td>\n",
       "      <td>42</td>\n",
       "      <td>3.0</td>\n",
       "      <td>75075.31</td>\n",
       "      <td>2</td>\n",
       "      <td>1</td>\n",
       "      <td>0</td>\n",
       "      <td>92888.52</td>\n",
       "      <td>1</td>\n",
       "    </tr>\n",
       "    <tr>\n",
       "      <th>9999</th>\n",
       "      <td>792</td>\n",
       "      <td>France</td>\n",
       "      <td>Female</td>\n",
       "      <td>28</td>\n",
       "      <td>0.0</td>\n",
       "      <td>130142.79</td>\n",
       "      <td>1</td>\n",
       "      <td>1</td>\n",
       "      <td>0</td>\n",
       "      <td>38190.78</td>\n",
       "      <td>0</td>\n",
       "    </tr>\n",
       "  </tbody>\n",
       "</table>\n",
       "<p>10000 rows × 11 columns</p>\n",
       "</div>"
      ],
      "text/plain": [
       "      CreditScore Geography  Gender  Age  Tenure    Balance  NumOfProducts  \\\n",
       "0             619    France  Female   42     2.0       0.00              1   \n",
       "1             608     Spain  Female   41     1.0   83807.86              1   \n",
       "2             502    France  Female   42     8.0  159660.80              3   \n",
       "3             699    France  Female   39     1.0       0.00              2   \n",
       "4             850     Spain  Female   43     2.0  125510.82              1   \n",
       "...           ...       ...     ...  ...     ...        ...            ...   \n",
       "9995          771    France    Male   39     5.0       0.00              2   \n",
       "9996          516    France    Male   35    10.0   57369.61              1   \n",
       "9997          709    France  Female   36     7.0       0.00              1   \n",
       "9998          772   Germany    Male   42     3.0   75075.31              2   \n",
       "9999          792    France  Female   28     0.0  130142.79              1   \n",
       "\n",
       "      HasCrCard  IsActiveMember  EstimatedSalary  Exited  \n",
       "0             1               1        101348.88       1  \n",
       "1             0               1        112542.58       0  \n",
       "2             1               0        113931.57       1  \n",
       "3             0               0         93826.63       0  \n",
       "4             1               1         79084.10       0  \n",
       "...         ...             ...              ...     ...  \n",
       "9995          1               0         96270.64       0  \n",
       "9996          1               1        101699.77       0  \n",
       "9997          0               1         42085.58       1  \n",
       "9998          1               0         92888.52       1  \n",
       "9999          1               0         38190.78       0  \n",
       "\n",
       "[10000 rows x 11 columns]"
      ]
     },
     "execution_count": 15,
     "metadata": {},
     "output_type": "execute_result"
    }
   ],
   "source": [
    "data_preprocessed=data.drop(['CustomerId', 'Surname'], axis=1) #Retirando las colmnas que pueden generar problemas al momento\n",
    "#de entrenar modelos\n",
    "data_preprocessed"
   ]
  },
  {
   "cell_type": "code",
   "execution_count": 16,
   "metadata": {},
   "outputs": [
    {
     "data": {
      "text/html": [
       "<div>\n",
       "<style scoped>\n",
       "    .dataframe tbody tr th:only-of-type {\n",
       "        vertical-align: middle;\n",
       "    }\n",
       "\n",
       "    .dataframe tbody tr th {\n",
       "        vertical-align: top;\n",
       "    }\n",
       "\n",
       "    .dataframe thead th {\n",
       "        text-align: right;\n",
       "    }\n",
       "</style>\n",
       "<table border=\"1\" class=\"dataframe\">\n",
       "  <thead>\n",
       "    <tr style=\"text-align: right;\">\n",
       "      <th></th>\n",
       "      <th>CreditScore</th>\n",
       "      <th>Age</th>\n",
       "      <th>Tenure</th>\n",
       "      <th>Balance</th>\n",
       "      <th>NumOfProducts</th>\n",
       "      <th>HasCrCard</th>\n",
       "      <th>IsActiveMember</th>\n",
       "      <th>EstimatedSalary</th>\n",
       "      <th>Exited</th>\n",
       "      <th>Geography_Germany</th>\n",
       "      <th>Geography_Spain</th>\n",
       "      <th>Gender_Male</th>\n",
       "    </tr>\n",
       "  </thead>\n",
       "  <tbody>\n",
       "    <tr>\n",
       "      <th>0</th>\n",
       "      <td>619</td>\n",
       "      <td>42</td>\n",
       "      <td>2.0</td>\n",
       "      <td>0.00</td>\n",
       "      <td>1</td>\n",
       "      <td>1</td>\n",
       "      <td>1</td>\n",
       "      <td>101348.88</td>\n",
       "      <td>1</td>\n",
       "      <td>0</td>\n",
       "      <td>0</td>\n",
       "      <td>0</td>\n",
       "    </tr>\n",
       "    <tr>\n",
       "      <th>1</th>\n",
       "      <td>608</td>\n",
       "      <td>41</td>\n",
       "      <td>1.0</td>\n",
       "      <td>83807.86</td>\n",
       "      <td>1</td>\n",
       "      <td>0</td>\n",
       "      <td>1</td>\n",
       "      <td>112542.58</td>\n",
       "      <td>0</td>\n",
       "      <td>0</td>\n",
       "      <td>1</td>\n",
       "      <td>0</td>\n",
       "    </tr>\n",
       "    <tr>\n",
       "      <th>2</th>\n",
       "      <td>502</td>\n",
       "      <td>42</td>\n",
       "      <td>8.0</td>\n",
       "      <td>159660.80</td>\n",
       "      <td>3</td>\n",
       "      <td>1</td>\n",
       "      <td>0</td>\n",
       "      <td>113931.57</td>\n",
       "      <td>1</td>\n",
       "      <td>0</td>\n",
       "      <td>0</td>\n",
       "      <td>0</td>\n",
       "    </tr>\n",
       "    <tr>\n",
       "      <th>3</th>\n",
       "      <td>699</td>\n",
       "      <td>39</td>\n",
       "      <td>1.0</td>\n",
       "      <td>0.00</td>\n",
       "      <td>2</td>\n",
       "      <td>0</td>\n",
       "      <td>0</td>\n",
       "      <td>93826.63</td>\n",
       "      <td>0</td>\n",
       "      <td>0</td>\n",
       "      <td>0</td>\n",
       "      <td>0</td>\n",
       "    </tr>\n",
       "    <tr>\n",
       "      <th>4</th>\n",
       "      <td>850</td>\n",
       "      <td>43</td>\n",
       "      <td>2.0</td>\n",
       "      <td>125510.82</td>\n",
       "      <td>1</td>\n",
       "      <td>1</td>\n",
       "      <td>1</td>\n",
       "      <td>79084.10</td>\n",
       "      <td>0</td>\n",
       "      <td>0</td>\n",
       "      <td>1</td>\n",
       "      <td>0</td>\n",
       "    </tr>\n",
       "    <tr>\n",
       "      <th>...</th>\n",
       "      <td>...</td>\n",
       "      <td>...</td>\n",
       "      <td>...</td>\n",
       "      <td>...</td>\n",
       "      <td>...</td>\n",
       "      <td>...</td>\n",
       "      <td>...</td>\n",
       "      <td>...</td>\n",
       "      <td>...</td>\n",
       "      <td>...</td>\n",
       "      <td>...</td>\n",
       "      <td>...</td>\n",
       "    </tr>\n",
       "    <tr>\n",
       "      <th>9995</th>\n",
       "      <td>771</td>\n",
       "      <td>39</td>\n",
       "      <td>5.0</td>\n",
       "      <td>0.00</td>\n",
       "      <td>2</td>\n",
       "      <td>1</td>\n",
       "      <td>0</td>\n",
       "      <td>96270.64</td>\n",
       "      <td>0</td>\n",
       "      <td>0</td>\n",
       "      <td>0</td>\n",
       "      <td>1</td>\n",
       "    </tr>\n",
       "    <tr>\n",
       "      <th>9996</th>\n",
       "      <td>516</td>\n",
       "      <td>35</td>\n",
       "      <td>10.0</td>\n",
       "      <td>57369.61</td>\n",
       "      <td>1</td>\n",
       "      <td>1</td>\n",
       "      <td>1</td>\n",
       "      <td>101699.77</td>\n",
       "      <td>0</td>\n",
       "      <td>0</td>\n",
       "      <td>0</td>\n",
       "      <td>1</td>\n",
       "    </tr>\n",
       "    <tr>\n",
       "      <th>9997</th>\n",
       "      <td>709</td>\n",
       "      <td>36</td>\n",
       "      <td>7.0</td>\n",
       "      <td>0.00</td>\n",
       "      <td>1</td>\n",
       "      <td>0</td>\n",
       "      <td>1</td>\n",
       "      <td>42085.58</td>\n",
       "      <td>1</td>\n",
       "      <td>0</td>\n",
       "      <td>0</td>\n",
       "      <td>0</td>\n",
       "    </tr>\n",
       "    <tr>\n",
       "      <th>9998</th>\n",
       "      <td>772</td>\n",
       "      <td>42</td>\n",
       "      <td>3.0</td>\n",
       "      <td>75075.31</td>\n",
       "      <td>2</td>\n",
       "      <td>1</td>\n",
       "      <td>0</td>\n",
       "      <td>92888.52</td>\n",
       "      <td>1</td>\n",
       "      <td>1</td>\n",
       "      <td>0</td>\n",
       "      <td>1</td>\n",
       "    </tr>\n",
       "    <tr>\n",
       "      <th>9999</th>\n",
       "      <td>792</td>\n",
       "      <td>28</td>\n",
       "      <td>0.0</td>\n",
       "      <td>130142.79</td>\n",
       "      <td>1</td>\n",
       "      <td>1</td>\n",
       "      <td>0</td>\n",
       "      <td>38190.78</td>\n",
       "      <td>0</td>\n",
       "      <td>0</td>\n",
       "      <td>0</td>\n",
       "      <td>0</td>\n",
       "    </tr>\n",
       "  </tbody>\n",
       "</table>\n",
       "<p>10000 rows × 12 columns</p>\n",
       "</div>"
      ],
      "text/plain": [
       "      CreditScore  Age  Tenure    Balance  NumOfProducts  HasCrCard  \\\n",
       "0             619   42     2.0       0.00              1          1   \n",
       "1             608   41     1.0   83807.86              1          0   \n",
       "2             502   42     8.0  159660.80              3          1   \n",
       "3             699   39     1.0       0.00              2          0   \n",
       "4             850   43     2.0  125510.82              1          1   \n",
       "...           ...  ...     ...        ...            ...        ...   \n",
       "9995          771   39     5.0       0.00              2          1   \n",
       "9996          516   35    10.0   57369.61              1          1   \n",
       "9997          709   36     7.0       0.00              1          0   \n",
       "9998          772   42     3.0   75075.31              2          1   \n",
       "9999          792   28     0.0  130142.79              1          1   \n",
       "\n",
       "      IsActiveMember  EstimatedSalary  Exited  Geography_Germany  \\\n",
       "0                  1        101348.88       1                  0   \n",
       "1                  1        112542.58       0                  0   \n",
       "2                  0        113931.57       1                  0   \n",
       "3                  0         93826.63       0                  0   \n",
       "4                  1         79084.10       0                  0   \n",
       "...              ...              ...     ...                ...   \n",
       "9995               0         96270.64       0                  0   \n",
       "9996               1        101699.77       0                  0   \n",
       "9997               1         42085.58       1                  0   \n",
       "9998               0         92888.52       1                  1   \n",
       "9999               0         38190.78       0                  0   \n",
       "\n",
       "      Geography_Spain  Gender_Male  \n",
       "0                   0            0  \n",
       "1                   1            0  \n",
       "2                   0            0  \n",
       "3                   0            0  \n",
       "4                   1            0  \n",
       "...               ...          ...  \n",
       "9995                0            1  \n",
       "9996                0            1  \n",
       "9997                0            0  \n",
       "9998                0            1  \n",
       "9999                0            0  \n",
       "\n",
       "[10000 rows x 12 columns]"
      ]
     },
     "execution_count": 16,
     "metadata": {},
     "output_type": "execute_result"
    }
   ],
   "source": [
    "data_ohe=pd.get_dummies(data_preprocessed, drop_first=True) #Codificación OHE eliminando la primera columna para evitar redundancia\n",
    "data_ohe"
   ]
  },
  {
   "cell_type": "markdown",
   "metadata": {},
   "source": [
    "<div class=\"alert alert-block alert-success\">\n",
    "<b>Comentario del revisor</b> <a class=\"tocSkip\"></a>\n",
    "    \n",
    "Buen trabajo.\n",
    "</div>"
   ]
  },
  {
   "cell_type": "markdown",
   "metadata": {},
   "source": [
    "### División entre datos de entrenamiento y datos de validación"
   ]
  },
  {
   "cell_type": "markdown",
   "metadata": {},
   "source": [
    "Ahora vamos a dividir los datos en dos conjuntos, un conjunto de entrenamiento con el 75% de los datos y un conjunto de validación con el 25% de los datos:"
   ]
  },
  {
   "cell_type": "code",
   "execution_count": 17,
   "metadata": {},
   "outputs": [],
   "source": [
    "# Separando \n",
    "target = data_ohe['Exited']\n",
    "features = data_ohe.drop('Exited', axis=1)\n",
    "\n",
    "features_train, features_valid, target_train, target_valid = train_test_split (\n",
    "features, target, test_size=0.25, random_state=12345)"
   ]
  },
  {
   "cell_type": "markdown",
   "metadata": {},
   "source": [
    "### Aplicación de una escala estandar para variables numéricas"
   ]
  },
  {
   "cell_type": "markdown",
   "metadata": {},
   "source": [
    "Se escogerá las variables numéricas para aplicar un escala estandar."
   ]
  },
  {
   "cell_type": "code",
   "execution_count": 18,
   "metadata": {},
   "outputs": [],
   "source": [
    "numeric=['CreditScore', 'Age', 'Tenure','Balance', 'EstimatedSalary'] #Variables numéricas\n"
   ]
  },
  {
   "cell_type": "code",
   "execution_count": 19,
   "metadata": {
    "scrolled": true
   },
   "outputs": [
    {
     "name": "stdout",
     "output_type": "stream",
     "text": [
      "(7500, 11)\n"
     ]
    }
   ],
   "source": [
    "#Estandarización de los datos:\n",
    "scaler = StandardScaler()\n",
    "scaler.fit(features_train[numeric])\n",
    "\n",
    "pd.options.mode.chained_assignment=None #Para evitar el warning de SettingWithCopyWarning\n",
    "\n",
    "features_train[numeric]=scaler.transform(features_train[numeric])\n",
    "features_valid[numeric]=scaler.transform(features_valid[numeric])\n",
    "\n",
    "pd.options.mode.chained_assignment=None\n",
    "\n",
    "print(features_train.shape)\n"
   ]
  },
  {
   "cell_type": "raw",
   "metadata": {},
   "source": [
    "Con los pasos previamente realisados se ha obtenido una base de datos para el entrenamiento de la siguiente manera:"
   ]
  },
  {
   "cell_type": "code",
   "execution_count": 20,
   "metadata": {},
   "outputs": [
    {
     "data": {
      "text/html": [
       "<div>\n",
       "<style scoped>\n",
       "    .dataframe tbody tr th:only-of-type {\n",
       "        vertical-align: middle;\n",
       "    }\n",
       "\n",
       "    .dataframe tbody tr th {\n",
       "        vertical-align: top;\n",
       "    }\n",
       "\n",
       "    .dataframe thead th {\n",
       "        text-align: right;\n",
       "    }\n",
       "</style>\n",
       "<table border=\"1\" class=\"dataframe\">\n",
       "  <thead>\n",
       "    <tr style=\"text-align: right;\">\n",
       "      <th></th>\n",
       "      <th>CreditScore</th>\n",
       "      <th>Age</th>\n",
       "      <th>Tenure</th>\n",
       "      <th>Balance</th>\n",
       "      <th>NumOfProducts</th>\n",
       "      <th>HasCrCard</th>\n",
       "      <th>IsActiveMember</th>\n",
       "      <th>EstimatedSalary</th>\n",
       "      <th>Geography_Germany</th>\n",
       "      <th>Geography_Spain</th>\n",
       "      <th>Gender_Male</th>\n",
       "    </tr>\n",
       "  </thead>\n",
       "  <tbody>\n",
       "    <tr>\n",
       "      <th>226</th>\n",
       "      <td>0.442805</td>\n",
       "      <td>-0.841274</td>\n",
       "      <td>1.426885</td>\n",
       "      <td>-1.224577</td>\n",
       "      <td>2</td>\n",
       "      <td>1</td>\n",
       "      <td>1</td>\n",
       "      <td>-1.269750</td>\n",
       "      <td>0</td>\n",
       "      <td>0</td>\n",
       "      <td>0</td>\n",
       "    </tr>\n",
       "    <tr>\n",
       "      <th>7756</th>\n",
       "      <td>-0.310897</td>\n",
       "      <td>-0.270730</td>\n",
       "      <td>0.784858</td>\n",
       "      <td>0.641783</td>\n",
       "      <td>1</td>\n",
       "      <td>1</td>\n",
       "      <td>1</td>\n",
       "      <td>0.960396</td>\n",
       "      <td>0</td>\n",
       "      <td>1</td>\n",
       "      <td>0</td>\n",
       "    </tr>\n",
       "    <tr>\n",
       "      <th>2065</th>\n",
       "      <td>-0.259274</td>\n",
       "      <td>-0.556002</td>\n",
       "      <td>1.105871</td>\n",
       "      <td>-1.224577</td>\n",
       "      <td>2</td>\n",
       "      <td>1</td>\n",
       "      <td>0</td>\n",
       "      <td>0.661864</td>\n",
       "      <td>0</td>\n",
       "      <td>0</td>\n",
       "      <td>1</td>\n",
       "    </tr>\n",
       "    <tr>\n",
       "      <th>2800</th>\n",
       "      <td>1.217157</td>\n",
       "      <td>1.155631</td>\n",
       "      <td>1.426885</td>\n",
       "      <td>1.290462</td>\n",
       "      <td>2</td>\n",
       "      <td>1</td>\n",
       "      <td>0</td>\n",
       "      <td>-1.039476</td>\n",
       "      <td>0</td>\n",
       "      <td>0</td>\n",
       "      <td>1</td>\n",
       "    </tr>\n",
       "    <tr>\n",
       "      <th>7028</th>\n",
       "      <td>0.690598</td>\n",
       "      <td>-1.221637</td>\n",
       "      <td>-1.462240</td>\n",
       "      <td>1.142121</td>\n",
       "      <td>1</td>\n",
       "      <td>0</td>\n",
       "      <td>0</td>\n",
       "      <td>-0.851729</td>\n",
       "      <td>1</td>\n",
       "      <td>0</td>\n",
       "      <td>1</td>\n",
       "    </tr>\n",
       "    <tr>\n",
       "      <th>...</th>\n",
       "      <td>...</td>\n",
       "      <td>...</td>\n",
       "      <td>...</td>\n",
       "      <td>...</td>\n",
       "      <td>...</td>\n",
       "      <td>...</td>\n",
       "      <td>...</td>\n",
       "      <td>...</td>\n",
       "      <td>...</td>\n",
       "      <td>...</td>\n",
       "      <td>...</td>\n",
       "    </tr>\n",
       "    <tr>\n",
       "      <th>4478</th>\n",
       "      <td>-1.054275</td>\n",
       "      <td>-0.746183</td>\n",
       "      <td>-0.178184</td>\n",
       "      <td>-1.224577</td>\n",
       "      <td>2</td>\n",
       "      <td>0</td>\n",
       "      <td>1</td>\n",
       "      <td>-1.291837</td>\n",
       "      <td>0</td>\n",
       "      <td>0</td>\n",
       "      <td>1</td>\n",
       "    </tr>\n",
       "    <tr>\n",
       "      <th>4094</th>\n",
       "      <td>-1.425964</td>\n",
       "      <td>-0.936365</td>\n",
       "      <td>1.747899</td>\n",
       "      <td>-1.224577</td>\n",
       "      <td>2</td>\n",
       "      <td>0</td>\n",
       "      <td>1</td>\n",
       "      <td>-1.294782</td>\n",
       "      <td>0</td>\n",
       "      <td>0</td>\n",
       "      <td>1</td>\n",
       "    </tr>\n",
       "    <tr>\n",
       "      <th>3492</th>\n",
       "      <td>0.040142</td>\n",
       "      <td>0.585087</td>\n",
       "      <td>-1.462240</td>\n",
       "      <td>-0.304909</td>\n",
       "      <td>1</td>\n",
       "      <td>0</td>\n",
       "      <td>1</td>\n",
       "      <td>-0.916678</td>\n",
       "      <td>0</td>\n",
       "      <td>0</td>\n",
       "      <td>0</td>\n",
       "    </tr>\n",
       "    <tr>\n",
       "      <th>2177</th>\n",
       "      <td>0.164039</td>\n",
       "      <td>-1.411819</td>\n",
       "      <td>-0.178184</td>\n",
       "      <td>-1.224577</td>\n",
       "      <td>2</td>\n",
       "      <td>0</td>\n",
       "      <td>1</td>\n",
       "      <td>-1.142032</td>\n",
       "      <td>0</td>\n",
       "      <td>0</td>\n",
       "      <td>0</td>\n",
       "    </tr>\n",
       "    <tr>\n",
       "      <th>4578</th>\n",
       "      <td>0.411831</td>\n",
       "      <td>-0.080548</td>\n",
       "      <td>-1.141226</td>\n",
       "      <td>-1.224577</td>\n",
       "      <td>2</td>\n",
       "      <td>0</td>\n",
       "      <td>0</td>\n",
       "      <td>-0.963356</td>\n",
       "      <td>0</td>\n",
       "      <td>0</td>\n",
       "      <td>1</td>\n",
       "    </tr>\n",
       "  </tbody>\n",
       "</table>\n",
       "<p>7500 rows × 11 columns</p>\n",
       "</div>"
      ],
      "text/plain": [
       "      CreditScore       Age    Tenure   Balance  NumOfProducts  HasCrCard  \\\n",
       "226      0.442805 -0.841274  1.426885 -1.224577              2          1   \n",
       "7756    -0.310897 -0.270730  0.784858  0.641783              1          1   \n",
       "2065    -0.259274 -0.556002  1.105871 -1.224577              2          1   \n",
       "2800     1.217157  1.155631  1.426885  1.290462              2          1   \n",
       "7028     0.690598 -1.221637 -1.462240  1.142121              1          0   \n",
       "...           ...       ...       ...       ...            ...        ...   \n",
       "4478    -1.054275 -0.746183 -0.178184 -1.224577              2          0   \n",
       "4094    -1.425964 -0.936365  1.747899 -1.224577              2          0   \n",
       "3492     0.040142  0.585087 -1.462240 -0.304909              1          0   \n",
       "2177     0.164039 -1.411819 -0.178184 -1.224577              2          0   \n",
       "4578     0.411831 -0.080548 -1.141226 -1.224577              2          0   \n",
       "\n",
       "      IsActiveMember  EstimatedSalary  Geography_Germany  Geography_Spain  \\\n",
       "226                1        -1.269750                  0                0   \n",
       "7756               1         0.960396                  0                1   \n",
       "2065               0         0.661864                  0                0   \n",
       "2800               0        -1.039476                  0                0   \n",
       "7028               0        -0.851729                  1                0   \n",
       "...              ...              ...                ...              ...   \n",
       "4478               1        -1.291837                  0                0   \n",
       "4094               1        -1.294782                  0                0   \n",
       "3492               1        -0.916678                  0                0   \n",
       "2177               1        -1.142032                  0                0   \n",
       "4578               0        -0.963356                  0                0   \n",
       "\n",
       "      Gender_Male  \n",
       "226             0  \n",
       "7756            0  \n",
       "2065            1  \n",
       "2800            1  \n",
       "7028            1  \n",
       "...           ...  \n",
       "4478            1  \n",
       "4094            1  \n",
       "3492            0  \n",
       "2177            0  \n",
       "4578            1  \n",
       "\n",
       "[7500 rows x 11 columns]"
      ]
     },
     "execution_count": 20,
     "metadata": {},
     "output_type": "execute_result"
    }
   ],
   "source": [
    "features_train"
   ]
  },
  {
   "cell_type": "code",
   "execution_count": 21,
   "metadata": {},
   "outputs": [
    {
     "data": {
      "text/html": [
       "<div>\n",
       "<style scoped>\n",
       "    .dataframe tbody tr th:only-of-type {\n",
       "        vertical-align: middle;\n",
       "    }\n",
       "\n",
       "    .dataframe tbody tr th {\n",
       "        vertical-align: top;\n",
       "    }\n",
       "\n",
       "    .dataframe thead th {\n",
       "        text-align: right;\n",
       "    }\n",
       "</style>\n",
       "<table border=\"1\" class=\"dataframe\">\n",
       "  <thead>\n",
       "    <tr style=\"text-align: right;\">\n",
       "      <th></th>\n",
       "      <th>CreditScore</th>\n",
       "      <th>Age</th>\n",
       "      <th>Tenure</th>\n",
       "      <th>Balance</th>\n",
       "      <th>NumOfProducts</th>\n",
       "      <th>HasCrCard</th>\n",
       "      <th>IsActiveMember</th>\n",
       "      <th>EstimatedSalary</th>\n",
       "      <th>Geography_Germany</th>\n",
       "      <th>Geography_Spain</th>\n",
       "      <th>Gender_Male</th>\n",
       "    </tr>\n",
       "  </thead>\n",
       "  <tbody>\n",
       "    <tr>\n",
       "      <th>7867</th>\n",
       "      <td>-0.114728</td>\n",
       "      <td>0.680178</td>\n",
       "      <td>-0.499198</td>\n",
       "      <td>-1.224577</td>\n",
       "      <td>1</td>\n",
       "      <td>1</td>\n",
       "      <td>1</td>\n",
       "      <td>0.969342</td>\n",
       "      <td>0</td>\n",
       "      <td>1</td>\n",
       "      <td>0</td>\n",
       "    </tr>\n",
       "    <tr>\n",
       "      <th>1402</th>\n",
       "      <td>1.093261</td>\n",
       "      <td>-0.936365</td>\n",
       "      <td>1.105871</td>\n",
       "      <td>0.865861</td>\n",
       "      <td>1</td>\n",
       "      <td>1</td>\n",
       "      <td>0</td>\n",
       "      <td>-0.395081</td>\n",
       "      <td>0</td>\n",
       "      <td>0</td>\n",
       "      <td>1</td>\n",
       "    </tr>\n",
       "    <tr>\n",
       "      <th>8606</th>\n",
       "      <td>1.609496</td>\n",
       "      <td>0.299815</td>\n",
       "      <td>0.142830</td>\n",
       "      <td>-1.224577</td>\n",
       "      <td>2</td>\n",
       "      <td>1</td>\n",
       "      <td>1</td>\n",
       "      <td>-0.439560</td>\n",
       "      <td>0</td>\n",
       "      <td>1</td>\n",
       "      <td>1</td>\n",
       "    </tr>\n",
       "    <tr>\n",
       "      <th>8885</th>\n",
       "      <td>0.174363</td>\n",
       "      <td>0.585087</td>\n",
       "      <td>-0.178184</td>\n",
       "      <td>0.419555</td>\n",
       "      <td>2</td>\n",
       "      <td>1</td>\n",
       "      <td>1</td>\n",
       "      <td>1.006040</td>\n",
       "      <td>0</td>\n",
       "      <td>1</td>\n",
       "      <td>1</td>\n",
       "    </tr>\n",
       "    <tr>\n",
       "      <th>6494</th>\n",
       "      <td>0.494429</td>\n",
       "      <td>-1.031456</td>\n",
       "      <td>0.784858</td>\n",
       "      <td>-1.224577</td>\n",
       "      <td>2</td>\n",
       "      <td>1</td>\n",
       "      <td>1</td>\n",
       "      <td>-1.343789</td>\n",
       "      <td>0</td>\n",
       "      <td>0</td>\n",
       "      <td>1</td>\n",
       "    </tr>\n",
       "    <tr>\n",
       "      <th>...</th>\n",
       "      <td>...</td>\n",
       "      <td>...</td>\n",
       "      <td>...</td>\n",
       "      <td>...</td>\n",
       "      <td>...</td>\n",
       "      <td>...</td>\n",
       "      <td>...</td>\n",
       "      <td>...</td>\n",
       "      <td>...</td>\n",
       "      <td>...</td>\n",
       "      <td>...</td>\n",
       "    </tr>\n",
       "    <tr>\n",
       "      <th>2149</th>\n",
       "      <td>1.908912</td>\n",
       "      <td>1.726176</td>\n",
       "      <td>-0.178184</td>\n",
       "      <td>0.399676</td>\n",
       "      <td>1</td>\n",
       "      <td>1</td>\n",
       "      <td>0</td>\n",
       "      <td>-1.093439</td>\n",
       "      <td>0</td>\n",
       "      <td>1</td>\n",
       "      <td>1</td>\n",
       "    </tr>\n",
       "    <tr>\n",
       "      <th>6328</th>\n",
       "      <td>1.433976</td>\n",
       "      <td>0.204724</td>\n",
       "      <td>0.784858</td>\n",
       "      <td>0.532213</td>\n",
       "      <td>1</td>\n",
       "      <td>0</td>\n",
       "      <td>0</td>\n",
       "      <td>-0.233911</td>\n",
       "      <td>0</td>\n",
       "      <td>1</td>\n",
       "      <td>0</td>\n",
       "    </tr>\n",
       "    <tr>\n",
       "      <th>3952</th>\n",
       "      <td>-0.589664</td>\n",
       "      <td>-0.460911</td>\n",
       "      <td>0.784858</td>\n",
       "      <td>1.045842</td>\n",
       "      <td>1</td>\n",
       "      <td>0</td>\n",
       "      <td>0</td>\n",
       "      <td>-1.573095</td>\n",
       "      <td>0</td>\n",
       "      <td>0</td>\n",
       "      <td>0</td>\n",
       "    </tr>\n",
       "    <tr>\n",
       "      <th>7480</th>\n",
       "      <td>-1.663432</td>\n",
       "      <td>0.109633</td>\n",
       "      <td>0.463844</td>\n",
       "      <td>1.279830</td>\n",
       "      <td>1</td>\n",
       "      <td>0</td>\n",
       "      <td>0</td>\n",
       "      <td>1.569015</td>\n",
       "      <td>0</td>\n",
       "      <td>1</td>\n",
       "      <td>1</td>\n",
       "    </tr>\n",
       "    <tr>\n",
       "      <th>386</th>\n",
       "      <td>-0.414144</td>\n",
       "      <td>0.680178</td>\n",
       "      <td>-1.462240</td>\n",
       "      <td>-1.224577</td>\n",
       "      <td>2</td>\n",
       "      <td>1</td>\n",
       "      <td>0</td>\n",
       "      <td>-0.942007</td>\n",
       "      <td>0</td>\n",
       "      <td>1</td>\n",
       "      <td>1</td>\n",
       "    </tr>\n",
       "  </tbody>\n",
       "</table>\n",
       "<p>2500 rows × 11 columns</p>\n",
       "</div>"
      ],
      "text/plain": [
       "      CreditScore       Age    Tenure   Balance  NumOfProducts  HasCrCard  \\\n",
       "7867    -0.114728  0.680178 -0.499198 -1.224577              1          1   \n",
       "1402     1.093261 -0.936365  1.105871  0.865861              1          1   \n",
       "8606     1.609496  0.299815  0.142830 -1.224577              2          1   \n",
       "8885     0.174363  0.585087 -0.178184  0.419555              2          1   \n",
       "6494     0.494429 -1.031456  0.784858 -1.224577              2          1   \n",
       "...           ...       ...       ...       ...            ...        ...   \n",
       "2149     1.908912  1.726176 -0.178184  0.399676              1          1   \n",
       "6328     1.433976  0.204724  0.784858  0.532213              1          0   \n",
       "3952    -0.589664 -0.460911  0.784858  1.045842              1          0   \n",
       "7480    -1.663432  0.109633  0.463844  1.279830              1          0   \n",
       "386     -0.414144  0.680178 -1.462240 -1.224577              2          1   \n",
       "\n",
       "      IsActiveMember  EstimatedSalary  Geography_Germany  Geography_Spain  \\\n",
       "7867               1         0.969342                  0                1   \n",
       "1402               0        -0.395081                  0                0   \n",
       "8606               1        -0.439560                  0                1   \n",
       "8885               1         1.006040                  0                1   \n",
       "6494               1        -1.343789                  0                0   \n",
       "...              ...              ...                ...              ...   \n",
       "2149               0        -1.093439                  0                1   \n",
       "6328               0        -0.233911                  0                1   \n",
       "3952               0        -1.573095                  0                0   \n",
       "7480               0         1.569015                  0                1   \n",
       "386                0        -0.942007                  0                1   \n",
       "\n",
       "      Gender_Male  \n",
       "7867            0  \n",
       "1402            1  \n",
       "8606            1  \n",
       "8885            1  \n",
       "6494            1  \n",
       "...           ...  \n",
       "2149            1  \n",
       "6328            0  \n",
       "3952            0  \n",
       "7480            1  \n",
       "386             1  \n",
       "\n",
       "[2500 rows x 11 columns]"
      ]
     },
     "execution_count": 21,
     "metadata": {},
     "output_type": "execute_result"
    }
   ],
   "source": [
    "features_valid"
   ]
  },
  {
   "cell_type": "markdown",
   "metadata": {},
   "source": [
    "<div class=\"alert alert-block alert-success\">\n",
    "<b>Comentario del revisor</b> <a class=\"tocSkip\"></a>\n",
    "    \n",
    "Buen trabajo con la creación de sets para el despliegue de los modelos.\n",
    "</div>"
   ]
  },
  {
   "cell_type": "markdown",
   "metadata": {},
   "source": [
    "## Equilibrio de clases"
   ]
  },
  {
   "cell_type": "markdown",
   "metadata": {},
   "source": [
    "### Análisis del equilibrio de clases"
   ]
  },
  {
   "cell_type": "markdown",
   "metadata": {},
   "source": [
    "Ahora que ya tenemos a los datos preprocesados y listos para ser entrenados, es necesario observar como se encuentra el equilibrio de clases. vamos a observar como se divide las clases del objetivo que deseamos analizar:"
   ]
  },
  {
   "cell_type": "code",
   "execution_count": 22,
   "metadata": {},
   "outputs": [
    {
     "data": {
      "text/plain": [
       "0    0.7963\n",
       "1    0.2037\n",
       "Name: Exited, dtype: float64"
      ]
     },
     "execution_count": 22,
     "metadata": {},
     "output_type": "execute_result"
    }
   ],
   "source": [
    "class_frequency=data_ohe['Exited'].value_counts(normalize=True)\n",
    "class_frequency"
   ]
  },
  {
   "cell_type": "code",
   "execution_count": 23,
   "metadata": {
    "scrolled": true
   },
   "outputs": [
    {
     "data": {
      "text/plain": [
       "<AxesSubplot:>"
      ]
     },
     "execution_count": 23,
     "metadata": {},
     "output_type": "execute_result"
    },
    {
     "data": {
      "image/png": "[encoded data removed]",
      "text/plain": [
       "<Figure size 432x288 with 1 Axes>"
      ]
     },
     "metadata": {
      "needs_background": "light"
     },
     "output_type": "display_data"
    }
   ],
   "source": [
    "class_frequency.plot(kind='bar')"
   ]
  },
  {
   "cell_type": "markdown",
   "metadata": {},
   "source": [
    "Con esto se observa que aproximadamente el 80% de los usuarios aun se mantienen como clientes del banco. Ahora vamos a realizar predicciones con tres modelos: Regresión logística, Arbol de decisión y Bosque aleatorio, con el fin de observar como se comportan las predicciones con cada modelo y se los va a comparar con un modelo constante."
   ]
  },
  {
   "cell_type": "markdown",
   "metadata": {},
   "source": [
    "**Entrenando un modelo constante**"
   ]
  },
  {
   "cell_type": "markdown",
   "metadata": {},
   "source": [
    "Se verificará que resultados obtenemos con un modelo constante que va a servir como modelo de comparación"
   ]
  },
  {
   "cell_type": "code",
   "execution_count": 24,
   "metadata": {},
   "outputs": [
    {
     "name": "stdout",
     "output_type": "stream",
     "text": [
      "0.7963\n"
     ]
    }
   ],
   "source": [
    "target_pred_constant=pd.Series(0, index=target.index)\n",
    "print(accuracy_score(target,target_pred_constant))"
   ]
  },
  {
   "cell_type": "markdown",
   "metadata": {},
   "source": [
    "El modelo constante nos da una calificación de 0.7963"
   ]
  },
  {
   "cell_type": "markdown",
   "metadata": {},
   "source": [
    "**Entrenando con Regresión logística**\n",
    "\n",
    "Vamos a observar que resultados se obtienen del modelo de regresión logística:"
   ]
  },
  {
   "cell_type": "code",
   "execution_count": 25,
   "metadata": {},
   "outputs": [
    {
     "name": "stdout",
     "output_type": "stream",
     "text": [
      "0.7968\n"
     ]
    }
   ],
   "source": [
    "modelRL = LogisticRegression(random_state=12345, solver='liblinear')\n",
    "modelRL.fit(features_train, target_train)\n",
    "\n",
    "predicted_valid = modelRL.predict(features_valid) #Utilizando un modelo básico para observar que resultados nos arroja\n",
    "\n",
    "accuracy_valid=accuracy_score(target_valid, predicted_valid)\n",
    "\n",
    "print(accuracy_valid)"
   ]
  },
  {
   "cell_type": "markdown",
   "metadata": {},
   "source": [
    "Este modelo da una exactitud de 0.7968, la cual es bastante similar a la división de clases encontrada previamente, y al modelo constante. Vamos a observar como se dividen las clases en la predicción de forma gráfica:"
   ]
  },
  {
   "cell_type": "code",
   "execution_count": 26,
   "metadata": {
    "scrolled": true
   },
   "outputs": [
    {
     "name": "stdout",
     "output_type": "stream",
     "text": [
      "0    0.9268\n",
      "1    0.0732\n",
      "dtype: float64\n"
     ]
    },
    {
     "data": {
      "text/plain": [
       "<AxesSubplot:>"
      ]
     },
     "execution_count": 26,
     "metadata": {},
     "output_type": "execute_result"
    },
    {
     "data": {
      "image/png": "[encoded data removed]",
      "text/plain": [
       "<Figure size 432x288 with 1 Axes>"
      ]
     },
     "metadata": {
      "needs_background": "light"
     },
     "output_type": "display_data"
    }
   ],
   "source": [
    "predicted_valid_s=pd.Series(modelRL.predict(features_valid))\n",
    "\n",
    "class_frequency_model=predicted_valid_s.value_counts(normalize=True)\n",
    "\n",
    "print(class_frequency_model)\n",
    "\n",
    "class_frequency_model.plot(kind='bar')"
   ]
  },
  {
   "cell_type": "markdown",
   "metadata": {},
   "source": [
    "Se observa que est modelo predice como '0' a aproximadamente el 92% de los datos, cuando el objetivo sería que clasifique cerca del 80% de datos, por lo que se observa un desequilibrio de clases. Vamos a observar como se comporta la matriz de confusión para este modeo:"
   ]
  },
  {
   "cell_type": "code",
   "execution_count": 27,
   "metadata": {},
   "outputs": [
    {
     "data": {
      "text/plain": [
       "array([[1887,   78],\n",
       "       [ 430,  105]])"
      ]
     },
     "execution_count": 27,
     "metadata": {},
     "output_type": "execute_result"
    }
   ],
   "source": [
    "confusion_matrix(target_valid, predicted_valid)"
   ]
  },
  {
   "cell_type": "markdown",
   "metadata": {},
   "source": [
    "Se observa una gran cantidad de falsos negativos los cuales incluso superan el número de verdaderos positivos y una cantidad considerable de falsos positivos. Ahora se observará como esta el valor de recall y precisión para esta predicción:"
   ]
  },
  {
   "cell_type": "code",
   "execution_count": 28,
   "metadata": {},
   "outputs": [
    {
     "data": {
      "text/plain": [
       "0.19626168224299065"
      ]
     },
     "execution_count": 28,
     "metadata": {},
     "output_type": "execute_result"
    }
   ],
   "source": [
    "recall_score(target_valid, predicted_valid)"
   ]
  },
  {
   "cell_type": "code",
   "execution_count": 29,
   "metadata": {},
   "outputs": [
    {
     "data": {
      "text/plain": [
       "0.5737704918032787"
      ]
     },
     "execution_count": 29,
     "metadata": {},
     "output_type": "execute_result"
    }
   ],
   "source": [
    "precision_score(target_valid, predicted_valid)"
   ]
  },
  {
   "cell_type": "markdown",
   "metadata": {},
   "source": [
    "Se tiene valores muy malos para estos dos parámetros. Vamos a revisar que sucede con el valor de F1 que combina los valores de recall y precisión"
   ]
  },
  {
   "cell_type": "code",
   "execution_count": 30,
   "metadata": {
    "scrolled": true
   },
   "outputs": [
    {
     "data": {
      "text/plain": [
       "0.29247910863509746"
      ]
     },
     "execution_count": 30,
     "metadata": {},
     "output_type": "execute_result"
    }
   ],
   "source": [
    "f1_score(target_valid, predicted_valid)"
   ]
  },
  {
   "cell_type": "markdown",
   "metadata": {},
   "source": [
    "Se obtiene un valor de F1 muy bajo, que contrasta con la exactitud obtenida con la función accuracy_score"
   ]
  },
  {
   "cell_type": "markdown",
   "metadata": {},
   "source": [
    "**Entrenando con árbol de decisión**\n",
    "\n",
    "Vamos a analizar que resultados se obtienen con el modelo de arbol de decisión, se utilizará un rango para el parámetro de profundidad para observar con cual da mejores resultados:"
   ]
  },
  {
   "cell_type": "code",
   "execution_count": 31,
   "metadata": {},
   "outputs": [
    {
     "name": "stdout",
     "output_type": "stream",
     "text": [
      "Mejor resultado de exactitud: 0.854\n",
      "Mejor profundidad para el modelo: 6\n",
      "Valor de exactitud para el modelo escogido: 0.854\n"
     ]
    }
   ],
   "source": [
    "best_result = 0\n",
    "best_depth = 0\n",
    "\n",
    "for depth in range(1,10):\n",
    "    modelDT = DecisionTreeClassifier(random_state=12345, max_depth=depth)\n",
    "    \n",
    "    modelDT.fit(features_train, target_train)\n",
    "\n",
    "    predicted_valid = modelDT.predict(features_valid) \n",
    "\n",
    "    accuracy_valid=accuracy_score(target_valid, predicted_valid)\n",
    "    \n",
    "    if accuracy_valid > best_result:\n",
    "        best_result = accuracy_valid\n",
    "        best_depth= depth\n",
    "\n",
    "print(f'Mejor resultado de exactitud: {best_result}')\n",
    "print(f'Mejor profundidad para el modelo: {best_depth}')\n",
    "\n",
    "modelDT = DecisionTreeClassifier(random_state=12345, max_depth=best_depth)\n",
    "modelDT.fit(features_train, target_train)\n",
    "predicted_valid = modelDT.predict(features_valid)\n",
    "accuracy_valid=accuracy_score(target_valid, predicted_valid)\n",
    "print(f'Valor de exactitud para el modelo escogido: {accuracy_valid}')\n"
   ]
  },
  {
   "cell_type": "markdown",
   "metadata": {},
   "source": [
    "Este modelo da una exactitud maxima de 0.854 con una profundidad de 6. Vamos a observar como se dividen las clases en la predicción de forma gráfica:"
   ]
  },
  {
   "cell_type": "code",
   "execution_count": 32,
   "metadata": {},
   "outputs": [
    {
     "name": "stdout",
     "output_type": "stream",
     "text": [
      "0    0.8936\n",
      "1    0.1064\n",
      "dtype: float64\n"
     ]
    },
    {
     "data": {
      "text/plain": [
       "<AxesSubplot:>"
      ]
     },
     "execution_count": 32,
     "metadata": {},
     "output_type": "execute_result"
    },
    {
     "data": {
      "image/png": "[encoded data removed]",
      "text/plain": [
       "<Figure size 432x288 with 1 Axes>"
      ]
     },
     "metadata": {
      "needs_background": "light"
     },
     "output_type": "display_data"
    }
   ],
   "source": [
    "predicted_valid_s=pd.Series(modelDT.predict(features_valid))\n",
    "\n",
    "class_frequency_model=predicted_valid_s.value_counts(normalize=True)\n",
    "\n",
    "print(class_frequency_model)\n",
    "\n",
    "class_frequency_model.plot(kind='bar')"
   ]
  },
  {
   "cell_type": "markdown",
   "metadata": {},
   "source": [
    "Con este modelo se redujo la cantidad de datos que se clsaificaron como '0', siendo que ahora califica el 89% con esta clase, sin embargo sigue estando muy lejos del 80%. Se analizará la matriz de confusión:"
   ]
  },
  {
   "cell_type": "code",
   "execution_count": 33,
   "metadata": {},
   "outputs": [
    {
     "data": {
      "text/plain": [
       "array([[1917,   48],\n",
       "       [ 317,  218]])"
      ]
     },
     "execution_count": 33,
     "metadata": {},
     "output_type": "execute_result"
    }
   ],
   "source": [
    "confusion_matrix(target_valid, predicted_valid)"
   ]
  },
  {
   "cell_type": "markdown",
   "metadata": {},
   "source": [
    "La matriz de confusión que se obtiene con este modelo nos indica que se mejoró la cantidad de verdaderos postiivos respecto al modelo de regresión logística, sin embargo la cantidad de falsos positivos y falsos negativos son muy grandes, en particular los valores de falsos negativos son demasiado altos. Vamos a analizar los valores de precisión y recall"
   ]
  },
  {
   "cell_type": "code",
   "execution_count": 34,
   "metadata": {},
   "outputs": [
    {
     "data": {
      "text/plain": [
       "0.4074766355140187"
      ]
     },
     "execution_count": 34,
     "metadata": {},
     "output_type": "execute_result"
    }
   ],
   "source": [
    "recall_score(target_valid, predicted_valid)"
   ]
  },
  {
   "cell_type": "code",
   "execution_count": 35,
   "metadata": {
    "scrolled": true
   },
   "outputs": [
    {
     "data": {
      "text/plain": [
       "0.8195488721804511"
      ]
     },
     "execution_count": 35,
     "metadata": {},
     "output_type": "execute_result"
    }
   ],
   "source": [
    "precision_score(target_valid, predicted_valid)"
   ]
  },
  {
   "cell_type": "markdown",
   "metadata": {},
   "source": [
    "El recall es mucho mejor comparado al obtenido con regresión logística, y la precisión tambien aumentó de forma considerable Vamos a analizar el valor de F1:    "
   ]
  },
  {
   "cell_type": "code",
   "execution_count": 36,
   "metadata": {},
   "outputs": [
    {
     "data": {
      "text/plain": [
       "0.5443196004993758"
      ]
     },
     "execution_count": 36,
     "metadata": {},
     "output_type": "execute_result"
    }
   ],
   "source": [
    "f1_score(target_valid, predicted_valid)"
   ]
  },
  {
   "cell_type": "markdown",
   "metadata": {},
   "source": [
    "Se ha obtenido un valor mucho mejor de F1 para este modelo, sin embargo aun no es suficientemente bueno para los requerimientos del proyecto"
   ]
  },
  {
   "cell_type": "markdown",
   "metadata": {},
   "source": [
    "**Entrenando con Bosque aleatorio**"
   ]
  },
  {
   "cell_type": "markdown",
   "metadata": {},
   "source": [
    "Finalmente se entrenará con el modelo de bosque aleatorio. Vamos a verificar con que valores de estimadores se obtienen los mejores resultados:"
   ]
  },
  {
   "cell_type": "code",
   "execution_count": 37,
   "metadata": {},
   "outputs": [
    {
     "name": "stdout",
     "output_type": "stream",
     "text": [
      "Accuracy del mejor modelo en el conjunto de validación (n_estimators = 17): 0.8512\n",
      "0.8512\n"
     ]
    }
   ],
   "source": [
    "best_score = 0\n",
    "best_est = 0\n",
    "\n",
    "for est in range (1,30):\n",
    "    modelRF = RandomForestClassifier(random_state = 12345, n_estimators = est)\n",
    "    modelRF.fit(features_train, target_train)\n",
    "    score = modelRF.score(features_valid, target_valid)\n",
    "    \n",
    "    if score > best_score:\n",
    "        best_score = score\n",
    "        best_est = est\n",
    "        \n",
    "print(f'Accuracy del mejor modelo en el conjunto de validación (n_estimators = {best_est}): {best_score}')\n",
    "\n",
    "modelRF = RandomForestClassifier(random_state = 12345, n_estimators = best_est) # Entrenando con el mejor valor de n_estimators\n",
    "modelRF.fit(features_train, target_train)\n",
    "predicted_valid = modelRF.predict(features_valid)\n",
    "score = modelRF.score(features_valid, target_valid)\n",
    "print(score)\n",
    "    "
   ]
  },
  {
   "cell_type": "markdown",
   "metadata": {},
   "source": [
    "Este modelo da una exactitud maxima de 0.8512 con una cantidad de estimadores igual a 17, la cual es bastante similar al modelo de arbol de decisión. Vamos a observar como se dividen las clases en la predicción de forma gráfica:"
   ]
  },
  {
   "cell_type": "code",
   "execution_count": 38,
   "metadata": {},
   "outputs": [
    {
     "name": "stdout",
     "output_type": "stream",
     "text": [
      "0    0.8652\n",
      "1    0.1348\n",
      "dtype: float64\n"
     ]
    },
    {
     "data": {
      "text/plain": [
       "<AxesSubplot:>"
      ]
     },
     "execution_count": 38,
     "metadata": {},
     "output_type": "execute_result"
    },
    {
     "data": {
      "image/png": "[encoded data removed]",
      "text/plain": [
       "<Figure size 432x288 with 1 Axes>"
      ]
     },
     "metadata": {
      "needs_background": "light"
     },
     "output_type": "display_data"
    }
   ],
   "source": [
    "predicted_valid_s=pd.Series(modelRF.predict(features_valid))\n",
    "\n",
    "class_frequency_model=predicted_valid_s.value_counts(normalize=True)\n",
    "\n",
    "print(class_frequency_model)\n",
    "\n",
    "class_frequency_model.plot(kind='bar')"
   ]
  },
  {
   "cell_type": "markdown",
   "metadata": {},
   "source": [
    "Con este modelo se redujo aun más la cantidad de datos que se clsaificaron como '0', siendo que ahora califica el 86% con esta clase, estos valores están más cerca de lo deseado, pero vamos a analizar la matriz de confusión:"
   ]
  },
  {
   "cell_type": "code",
   "execution_count": 39,
   "metadata": {},
   "outputs": [
    {
     "data": {
      "text/plain": [
       "array([[1878,   87],\n",
       "       [ 285,  250]])"
      ]
     },
     "execution_count": 39,
     "metadata": {},
     "output_type": "execute_result"
    }
   ],
   "source": [
    "confusion_matrix(target_valid, predicted_valid)"
   ]
  },
  {
   "cell_type": "markdown",
   "metadata": {},
   "source": [
    "La matriz de confusión que se obtiene con este modelo nos indica que se mejoró la cantidad de verdaderos postivos respecto a los modelos probados previamente, la cantidad de falsos negativos se ha visto reducida, sin embargo la cantidad de falsos positivos aumentaron respecto al modelo de árbol de decision. Vamos a analizar los valores de precisión y recall"
   ]
  },
  {
   "cell_type": "code",
   "execution_count": 40,
   "metadata": {},
   "outputs": [
    {
     "data": {
      "text/plain": [
       "0.4672897196261682"
      ]
     },
     "execution_count": 40,
     "metadata": {},
     "output_type": "execute_result"
    }
   ],
   "source": [
    "recall_score(target_valid, predicted_valid)"
   ]
  },
  {
   "cell_type": "code",
   "execution_count": 41,
   "metadata": {},
   "outputs": [
    {
     "data": {
      "text/plain": [
       "0.7418397626112759"
      ]
     },
     "execution_count": 41,
     "metadata": {},
     "output_type": "execute_result"
    }
   ],
   "source": [
    "precision_score(target_valid, predicted_valid)"
   ]
  },
  {
   "cell_type": "markdown",
   "metadata": {},
   "source": [
    "Este modelo aumento el valor de recall pero redujo  la precision respecto al arbol de decisión. Se analizará el valor de F1:"
   ]
  },
  {
   "cell_type": "code",
   "execution_count": 42,
   "metadata": {},
   "outputs": [
    {
     "data": {
      "text/plain": [
       "0.573394495412844"
      ]
     },
     "execution_count": 42,
     "metadata": {},
     "output_type": "execute_result"
    }
   ],
   "source": [
    "f1_score(target_valid, predicted_valid)"
   ]
  },
  {
   "cell_type": "markdown",
   "metadata": {},
   "source": [
    "Con el modelo de bosque aleatorio se ha obtenido un valor de F1 mayor que con los demás modelos, este valor se acerca mucho al solicitado pero aún no cumple con los requerimientos del proyecto."
   ]
  },
  {
   "cell_type": "markdown",
   "metadata": {},
   "source": [
    "Se observa que se obtiene niveles de precisión similares que con una predicción constante y esto se debe a que existe un desequilibrio de clases, lo cual afecta a como se entrena el modelo. En este caso la proporcion esta muy lejos de 1:1 entre las dos clases existentes."
   ]
  },
  {
   "cell_type": "markdown",
   "metadata": {},
   "source": [
    "### Observaciones sobre el equilibrio de clases"
   ]
  },
  {
   "cell_type": "markdown",
   "metadata": {},
   "source": [
    "Una vez analizado el equilibrio de clases se tiene las siguientes conclusiones:\n",
    "\n",
    "- Realizando el análisis con los tres diferentes métodos y modificando los parámetros para obtener los mejores resultados se logró obtener un valor máximo de F1 de  0.5733 con el modelo de bosque aleatorio.\n",
    "- Se observó tambien las medidas de precisión y recall varían mucho dependiendo del modelo. El modelo de arbol de decisión obtuvo los mejores resultados de precisión y el modelo de bosque aleatorio obtuvo los mejores resultados para recall\n",
    "- Con estos valores obtenidos ningun modelo logra valores F1 suficientes para el planteamiento del proyecto, por lo cual es necesario solucionar el problema del desequilibrio de clases y ajustar el modelo para maximizar el valor de F1\n"
   ]
  },
  {
   "cell_type": "markdown",
   "metadata": {},
   "source": [
    "<div class=\"alert alert-block alert-success\">\n",
    "<b>Comentario del revisor</b> <a class=\"tocSkip\"></a>\n",
    "    \n",
    "Buen trabajo con la sección, esta nos permite adentrarnos de las dificultades que puede conllevar el despliegue de un modelo de clasificación cuando hay un claro desbalance en el target objetivo.\n",
    "</div>"
   ]
  },
  {
   "cell_type": "markdown",
   "metadata": {},
   "source": [
    "## Ajuste de peso de clase"
   ]
  },
  {
   "cell_type": "markdown",
   "metadata": {},
   "source": [
    "### Ajustando class_weight='balanced'"
   ]
  },
  {
   "cell_type": "markdown",
   "metadata": {},
   "source": [
    "Con el objetivo de evitar el problema del desequilibrio de clases detectado anteriormente se va a buscar formas para ajustar los pesos de cada clase y lograr los valores de F1 más altos posible. Para esto se utilizará los tres modelos probados con los parámetros con los cuales se logró la mejor exactitud en las pruebas anteriores. Vamos a iniciar nuestro análisis del ajuste de peso con un modelo de Regresión Logística cambiando el parámetro de class_weight a 'balanced'."
   ]
  },
  {
   "cell_type": "markdown",
   "metadata": {},
   "source": [
    "**Modelo de Regresión Logística**"
   ]
  },
  {
   "cell_type": "code",
   "execution_count": 43,
   "metadata": {},
   "outputs": [
    {
     "name": "stdout",
     "output_type": "stream",
     "text": [
      "0.5077441077441077\n"
     ]
    }
   ],
   "source": [
    "modelLR=LogisticRegression(random_state=12345, solver='liblinear',class_weight='balanced' )\n",
    "modelLR.fit(features_train, target_train)\n",
    "predicted_valid = modelLR.predict(features_valid)\n",
    "\n",
    "print(f1_score(target_valid, predicted_valid))"
   ]
  },
  {
   "cell_type": "markdown",
   "metadata": {},
   "source": [
    "Modificando el parámetro de class_weight = 'balanced' se logra una mejora sustancial del valor de F1, que previamente quedó en 0.2924 y ahora tiene un valor de 0.5077"
   ]
  },
  {
   "cell_type": "code",
   "execution_count": 44,
   "metadata": {},
   "outputs": [
    {
     "name": "stdout",
     "output_type": "stream",
     "text": [
      "0.5907780979827089\n"
     ]
    }
   ],
   "source": [
    "modelDT = DecisionTreeClassifier(random_state=12345, max_depth=best_depth, class_weight='balanced')\n",
    "\n",
    "modelDT.fit(features_train, target_train)\n",
    "predicted_valid = modelDT.predict(features_valid)\n",
    "\n",
    "print(f1_score(target_valid, predicted_valid))"
   ]
  },
  {
   "cell_type": "markdown",
   "metadata": {},
   "source": [
    "Este cambio causo un incremento del valor de F1 de  0.544 a 0.59"
   ]
  },
  {
   "cell_type": "code",
   "execution_count": 45,
   "metadata": {},
   "outputs": [
    {
     "name": "stdout",
     "output_type": "stream",
     "text": [
      "0.5552941176470589\n"
     ]
    }
   ],
   "source": [
    "modelRF = RandomForestClassifier(random_state = 12345, n_estimators = best_est, class_weight='balanced')\n",
    "\n",
    "modelRF.fit(features_train, target_train)\n",
    "predicted_valid = modelRF.predict(features_valid)\n",
    "\n",
    "print(f1_score(target_valid, predicted_valid))"
   ]
  },
  {
   "cell_type": "markdown",
   "metadata": {},
   "source": [
    "Este causo una disminución del valor de F1 de 0.57 a 0.55"
   ]
  },
  {
   "cell_type": "markdown",
   "metadata": {},
   "source": [
    "<div class=\"alert alert-block alert-success\">\n",
    "<b>Comentario del revisor</b> <a class=\"tocSkip\"></a>\n",
    "    \n",
    "Bien hecho, buen trabajo aplicando la técnica de balanceo de clases directa de los hiperparámetros de los modelos. En últimas esta es la solución más rápida que podemos tener para este tipo de problemas, sin embargo, tal cual como lo vas a mostrar a continuación, también hay unas alternativas interesantes.\n",
    "</div>"
   ]
  },
  {
   "cell_type": "markdown",
   "metadata": {},
   "source": [
    "### Utilizando la técnica de sobremuestreo\n",
    "\n",
    "Con este método podemos hacer que las observaciones de la clase minoritaria sean menos raras. Para esto se utilizará la siguiente sección de código:"
   ]
  },
  {
   "cell_type": "code",
   "execution_count": 46,
   "metadata": {},
   "outputs": [],
   "source": [
    "# Función para realizar el sobremuestreo\n",
    "\n",
    "def upsample(features, target, repeat):\n",
    "    features_zeros = features[target == 0]\n",
    "    features_ones = features[target == 1]\n",
    "    target_zeros = target[target == 0]\n",
    "    target_ones = target[target == 1]\n",
    "    \n",
    "    features_upsampled=pd.concat([features_zeros]+[features_ones]*repeat)\n",
    "    target_upsampled=pd.concat([target_zeros]+[target_ones]*repeat)\n",
    "    \n",
    "    features_upsampled, target_upsampled = shuffle(features_upsampled, target_upsampled, random_state=12345)\n",
    "    \n",
    "    return features_upsampled, target_upsampled\n",
    "\n"
   ]
  },
  {
   "cell_type": "markdown",
   "metadata": {},
   "source": [
    "**Para el modelo de Regresión Logística**"
   ]
  },
  {
   "cell_type": "code",
   "execution_count": 47,
   "metadata": {},
   "outputs": [
    {
     "name": "stdout",
     "output_type": "stream",
     "text": [
      "Valor de F1 con un sobremuestreo de 2 Repeticiones: 0.46274509803921565\n",
      "Valor de F1 con un sobremuestreo de 3 Repeticiones: 0.5034856700232379\n",
      "Valor de F1 con un sobremuestreo de 4 Repeticiones: 0.5074024226110363\n",
      "Valor de F1 con un sobremuestreo de 5 Repeticiones: 0.4988095238095238\n",
      "Valor de F1 con un sobremuestreo de 6 Repeticiones: 0.4811783960720132\n",
      "Valor de F1 con un sobremuestreo de 7 Repeticiones: 0.4660887302396737\n",
      "Valor de F1 con un sobremuestreo de 8 Repeticiones: 0.4533205004812319\n",
      "Valor de F1 con un sobremuestreo de 9 Repeticiones: 0.44080145719489977\n",
      "Valor de F1 con un sobremuestreo de 10 Repeticiones: 0.4302019315188762\n",
      "Valor de F1 con un sobremuestreo de 11 Repeticiones: 0.4202959830866808\n",
      "Valor de F1 con un sobremuestreo de 12 Repeticiones: 0.4109926168990976\n",
      "Valor de F1 con un sobremuestreo de 13 Repeticiones: 0.4032\n",
      "Valor de F1 con un sobremuestreo de 14 Repeticiones: 0.395776300351975\n",
      "Valor de F1 con un sobremuestreo de 15 Repeticiones: 0.38973966309341496\n",
      "Valor de F1 con un sobremuestreo de 16 Repeticiones: 0.38629518072289154\n",
      "Valor de F1 con un sobremuestreo de 17 Repeticiones: 0.38165680473372776\n",
      "Valor de F1 con un sobremuestreo de 18 Repeticiones: 0.3787545787545788\n",
      "Valor de F1 con un sobremuestreo de 19 Repeticiones: 0.3768115942028986\n",
      "La mejor cantidad de repeticiones para el sobremuestreo son: 4, y su nivel de calificación es: 0.5074024226110363\n"
     ]
    }
   ],
   "source": [
    "modelLR=LogisticRegression(random_state=12345, solver='liblinear')\n",
    "best_rep=0\n",
    "best_score=0\n",
    "\n",
    "for rep in range(2,20):\n",
    "    features_upsampled, target_upsampled=upsample(features_train, target_train, rep)\n",
    "    modelLR.fit(features_upsampled, target_upsampled)\n",
    "    predicted_valid=modelLR.predict(features_valid)\n",
    "    score=f1_score(target_valid, predicted_valid)\n",
    "    print(f'Valor de F1 con un sobremuestreo de {rep} Repeticiones: {score}')\n",
    "    if score>best_score:\n",
    "        best_rep = rep\n",
    "        best_score=score\n",
    "\n",
    "print(f'La mejor cantidad de repeticiones para el sobremuestreo son: {best_rep}, y su nivel de calificación es: {best_score}')"
   ]
  },
  {
   "cell_type": "markdown",
   "metadata": {},
   "source": [
    "**Con el modelo de arbol de decisión**"
   ]
  },
  {
   "cell_type": "code",
   "execution_count": 48,
   "metadata": {},
   "outputs": [
    {
     "name": "stdout",
     "output_type": "stream",
     "text": [
      "Valor de F1 con un sobremuestreo de 2 Repeticiones: 0.5920303605313093\n",
      "Valor de F1 con un sobremuestreo de 3 Repeticiones: 0.6004382761139518\n",
      "Valor de F1 con un sobremuestreo de 4 Repeticiones: 0.5919540229885057\n",
      "Valor de F1 con un sobremuestreo de 5 Repeticiones: 0.6006968641114983\n",
      "Valor de F1 con un sobremuestreo de 6 Repeticiones: 0.5782975958414555\n",
      "Valor de F1 con un sobremuestreo de 7 Repeticiones: 0.5429594272076372\n",
      "Valor de F1 con un sobremuestreo de 8 Repeticiones: 0.535632183908046\n",
      "Valor de F1 con un sobremuestreo de 9 Repeticiones: 0.4953846153846154\n",
      "Valor de F1 con un sobremuestreo de 10 Repeticiones: 0.4935864545920985\n",
      "Valor de F1 con un sobremuestreo de 11 Repeticiones: 0.4920716112531969\n",
      "Valor de F1 con un sobremuestreo de 12 Repeticiones: 0.4940934771443246\n",
      "Valor de F1 con un sobremuestreo de 13 Repeticiones: 0.4940934771443246\n",
      "Valor de F1 con un sobremuestreo de 14 Repeticiones: 0.4784972812654473\n",
      "Valor de F1 con un sobremuestreo de 15 Repeticiones: 0.45547309833024124\n",
      "Valor de F1 con un sobremuestreo de 16 Repeticiones: 0.4551788202508129\n",
      "Valor de F1 con un sobremuestreo de 17 Repeticiones: 0.4551788202508129\n",
      "Valor de F1 con un sobremuestreo de 18 Repeticiones: 0.4551788202508129\n",
      "Valor de F1 con un sobremuestreo de 19 Repeticiones: 0.4539990753582987\n",
      "La mejor cantidad de repeticiones para el sobremuestreo son: 5, y su nivel de calificación es: 0.6006968641114983\n"
     ]
    }
   ],
   "source": [
    "modelDT = DecisionTreeClassifier(random_state=12345, max_depth=best_depth)\n",
    "\n",
    "best_rep=0\n",
    "best_score=0\n",
    "\n",
    "for rep in range(2,20):\n",
    "    features_upsampled, target_upsampled=upsample(features_train, target_train, rep)\n",
    "    modelDT.fit(features_upsampled, target_upsampled)\n",
    "    predicted_valid=modelDT.predict(features_valid)\n",
    "    score=f1_score(target_valid, predicted_valid)\n",
    "    print(f'Valor de F1 con un sobremuestreo de {rep} Repeticiones: {score}')\n",
    "    if score>best_score:\n",
    "        best_rep = rep\n",
    "        best_score=score\n",
    "\n",
    "print(f'La mejor cantidad de repeticiones para el sobremuestreo son: {best_rep}, y su nivel de calificación es: {best_score}')\n"
   ]
  },
  {
   "cell_type": "markdown",
   "metadata": {},
   "source": [
    "Con el uso de ua técnica de sobremuestreo para el modelo de arbol de decisión se logro un con 5 repeticiones un nivel de F1 de 0.60. Este es un valor muy bueno y que supera el umbral establecido para el proyecto."
   ]
  },
  {
   "cell_type": "markdown",
   "metadata": {},
   "source": [
    "**Con modelo de bosque aleatorio**"
   ]
  },
  {
   "cell_type": "code",
   "execution_count": 49,
   "metadata": {},
   "outputs": [
    {
     "name": "stdout",
     "output_type": "stream",
     "text": [
      "Valor de F1 con un sobremuestreo de 2 Repeticiones: 0.6014568158168574\n",
      "Valor de F1 con un sobremuestreo de 3 Repeticiones: 0.5961732124874118\n",
      "Valor de F1 con un sobremuestreo de 4 Repeticiones: 0.5897693079237714\n",
      "Valor de F1 con un sobremuestreo de 5 Repeticiones: 0.5875127942681678\n",
      "Valor de F1 con un sobremuestreo de 6 Repeticiones: 0.5979381443298968\n",
      "Valor de F1 con un sobremuestreo de 7 Repeticiones: 0.5832492431886983\n",
      "Valor de F1 con un sobremuestreo de 8 Repeticiones: 0.5975855130784709\n",
      "Valor de F1 con un sobremuestreo de 9 Repeticiones: 0.5875127942681678\n",
      "Valor de F1 con un sobremuestreo de 10 Repeticiones: 0.5876288659793815\n",
      "Valor de F1 con un sobremuestreo de 11 Repeticiones: 0.6030769230769231\n",
      "Valor de F1 con un sobremuestreo de 12 Repeticiones: 0.5965270684371808\n",
      "Valor de F1 con un sobremuestreo de 13 Repeticiones: 0.5896656534954408\n",
      "Valor de F1 con un sobremuestreo de 14 Repeticiones: 0.5798575788402849\n",
      "Valor de F1 con un sobremuestreo de 15 Repeticiones: 0.6028225806451614\n",
      "Valor de F1 con un sobremuestreo de 16 Repeticiones: 0.5903614457831324\n",
      "Valor de F1 con un sobremuestreo de 17 Repeticiones: 0.5915492957746479\n",
      "Valor de F1 con un sobremuestreo de 18 Repeticiones: 0.5717234262125902\n",
      "Valor de F1 con un sobremuestreo de 19 Repeticiones: 0.5769622833843018\n",
      "La mejor cantidad de repeticiones para el sobremuestreo son: 11, y su nivel de calificación es: 0.6030769230769231\n"
     ]
    }
   ],
   "source": [
    "modelRF = RandomForestClassifier(random_state = 12345, n_estimators = best_est)\n",
    "\n",
    "best_rep=0\n",
    "best_score=0\n",
    "\n",
    "for rep in range(2,20):\n",
    "    features_upsampled, target_upsampled=upsample(features_train, target_train, rep)\n",
    "    modelRF.fit(features_upsampled, target_upsampled)\n",
    "    predicted_valid=modelRF.predict(features_valid)\n",
    "    score=f1_score(target_valid, predicted_valid)\n",
    "    print(f'Valor de F1 con un sobremuestreo de {rep} Repeticiones: {score}')\n",
    "    if score>best_score:\n",
    "        best_rep = rep\n",
    "        best_score=score\n",
    "\n",
    "print(f'La mejor cantidad de repeticiones para el sobremuestreo son: {best_rep}, y su nivel de calificación es: {best_score}')\n"
   ]
  },
  {
   "cell_type": "markdown",
   "metadata": {},
   "source": [
    "Con este método se logra un valor de F1 igual a 0.6030 utlizando 11 repeticiones para el sobremuestreo, lo cual es un valor muy bueno y supera el umbral establecido"
   ]
  },
  {
   "cell_type": "markdown",
   "metadata": {},
   "source": [
    "<div class=\"alert alert-block alert-success\">\n",
    "<b>Comentario del revisor</b> <a class=\"tocSkip\"></a>\n",
    "    \n",
    "Buen trabajo, muy buen despliegue de los modelos, aplicando el concepto de sobremuestreo.\n",
    "</div>"
   ]
  },
  {
   "cell_type": "markdown",
   "metadata": {},
   "source": [
    "### Utilizando la técnica de submuestreo\n",
    "\n",
    "Mediante esta técnica vamos a tomar solo una parte de los datos que contienen el valor de 'Exited' en 0, y vamos a observar que sucede con el modelo"
   ]
  },
  {
   "cell_type": "code",
   "execution_count": 50,
   "metadata": {},
   "outputs": [],
   "source": [
    "#Función para el submuestreo\n",
    "\n",
    "def downsample(features, target, fraction):\n",
    "    features_zeros = features[target == 0]\n",
    "    features_ones = features[target == 1]\n",
    "    target_zeros = target[target == 0]\n",
    "    target_ones = target[target == 1]\n",
    "    \n",
    "    features_downsampled = pd.concat(\n",
    "        [features_zeros.sample(frac=fraction, random_state=12345)]\n",
    "        + [features_ones]\n",
    "    )\n",
    "    target_downsampled = pd.concat(\n",
    "        [target_zeros.sample(frac=fraction, random_state=12345)]\n",
    "        + [target_ones]\n",
    "    )\n",
    "    \n",
    "    features_downsampled, target_downsampled = shuffle(\n",
    "        features_downsampled, target_downsampled, random_state=12345\n",
    "    )\n",
    "       \n",
    "    \n",
    "    return features_downsampled, target_downsampled\n"
   ]
  },
  {
   "cell_type": "markdown",
   "metadata": {},
   "source": [
    "**Para el método de Regresión Lineal**"
   ]
  },
  {
   "cell_type": "code",
   "execution_count": 51,
   "metadata": {},
   "outputs": [
    {
     "name": "stdout",
     "output_type": "stream",
     "text": [
      "Valor de F1 con un submuestreo de 0.1 es: 0.42656112576956906\n",
      "Valor de F1 con un submuestreo de 0.2 es: 0.49287410926365793\n",
      "Valor de F1 con un submuestreo de 0.30000000000000004 es: 0.5065693430656935\n",
      "Valor de F1 con un submuestreo de 0.4 es: 0.49786142001710865\n",
      "Valor de F1 con un submuestreo de 0.5 es: 0.4615384615384615\n",
      "Valor de F1 con un submuestreo de 0.6 es: 0.42701525054466233\n",
      "Valor de F1 con un submuestreo de 0.7000000000000001 es: 0.39243498817966904\n",
      "Valor de F1 con un submuestreo de 0.8 es: 0.3622828784119107\n",
      "Valor de F1 con un submuestreo de 0.9 es: 0.3363994743758213\n",
      "Valor de F1 con un submuestreo de 1.0 es: 0.29247910863509746\n",
      "La mejor fracción para el submuestreo es 0.30000000000000004, y su nivel de calificación es: 0.5065693430656935\n"
     ]
    }
   ],
   "source": [
    "modelLR=LogisticRegression(random_state=12345, solver='liblinear')\n",
    "best_frac=0\n",
    "best_score=0\n",
    "\n",
    "for frac in np.arange(0.1, 1.1, 0.1):\n",
    "    features_downsampled, target_downsampled=downsample(features_train, target_train, frac)\n",
    "    modelLR.fit(features_downsampled, target_downsampled)\n",
    "    predicted_valid=modelLR.predict(features_valid)\n",
    "    score=f1_score(target_valid, predicted_valid)\n",
    "    print(f'Valor de F1 con un submuestreo de {frac} es: {score}')\n",
    "    if score>best_score:\n",
    "        best_frac = frac\n",
    "        best_score=score\n",
    "\n",
    "print(f'La mejor fracción para el submuestreo es {best_frac}, y su nivel de calificación es: {best_score}')\n"
   ]
  },
  {
   "cell_type": "markdown",
   "metadata": {},
   "source": [
    "Con el uso de una técnica de susbmuestreo y el modelo de regresión lineal se ha obtenido una calificación de F1 = 0.5065 y una fracción de 0.3, con esto no se logró el valor de F1 mínimo requerido"
   ]
  },
  {
   "cell_type": "markdown",
   "metadata": {},
   "source": [
    "**Para el método de Arbol de decisión**"
   ]
  },
  {
   "cell_type": "code",
   "execution_count": 52,
   "metadata": {},
   "outputs": [
    {
     "name": "stdout",
     "output_type": "stream",
     "text": [
      "Valor de F1 con un submuestreo de 0.1 es: 0.4942767950052029\n",
      "Valor de F1 con un submuestreo de 0.2 es: 0.5895196506550219\n",
      "Valor de F1 con un submuestreo de 0.30000000000000004 es: 0.5990639625585024\n",
      "Valor de F1 con un submuestreo de 0.4 es: 0.617002629272568\n",
      "Valor de F1 con un submuestreo de 0.5 es: 0.591658583899127\n",
      "Valor de F1 con un submuestreo de 0.6 es: 0.6223091976516635\n",
      "Valor de F1 con un submuestreo de 0.7000000000000001 es: 0.5704057279236276\n",
      "Valor de F1 con un submuestreo de 0.8 es: 0.5669481302774427\n",
      "Valor de F1 con un submuestreo de 0.9 es: 0.5602923264311814\n",
      "Valor de F1 con un submuestreo de 1.0 es: 0.5443196004993758\n",
      "La mejor fracción para el submuestreo es 0.6, y su nivel de calificación es: 0.6223091976516635\n"
     ]
    }
   ],
   "source": [
    "modelDT = DecisionTreeClassifier(random_state=12345, max_depth=best_depth)\n",
    "\n",
    "best_frac=0\n",
    "best_score=0\n",
    "\n",
    "\n",
    "for frac in np.arange(0.1, 1.1, 0.1):\n",
    "    features_downsampled, target_downsampled=downsample(features_train, target_train, frac)\n",
    "    modelDT.fit(features_downsampled, target_downsampled)\n",
    "    predicted_valid=modelDT.predict(features_valid)\n",
    "    score=f1_score(target_valid, predicted_valid)\n",
    "    print(f'Valor de F1 con un submuestreo de {frac} es: {score}')\n",
    "    if score>best_score:\n",
    "        best_frac = frac\n",
    "        best_score=score\n",
    "\n",
    "print(f'La mejor fracción para el submuestreo es {best_frac}, y su nivel de calificación es: {best_score}')"
   ]
  },
  {
   "cell_type": "markdown",
   "metadata": {},
   "source": [
    "Para el modelo de arbol de decisión se logró un un valor de F1 de 0.6223 con una fracción de submuestreo de 0.6, lo cual supera al umbral solicitado"
   ]
  },
  {
   "cell_type": "markdown",
   "metadata": {},
   "source": [
    "**Para el método de bosque aleatorio**"
   ]
  },
  {
   "cell_type": "code",
   "execution_count": 53,
   "metadata": {},
   "outputs": [
    {
     "name": "stdout",
     "output_type": "stream",
     "text": [
      "Valor de F1 con un submuestreo de 0.1 es: 0.49112125824454594\n",
      "Valor de F1 con un submuestreo de 0.2 es: 0.5633245382585752\n",
      "Valor de F1 con un submuestreo de 0.30000000000000004 es: 0.6041506533435819\n",
      "Valor de F1 con un submuestreo de 0.4 es: 0.6032285471537808\n",
      "Valor de F1 con un submuestreo de 0.5 es: 0.611214953271028\n",
      "Valor de F1 con un submuestreo de 0.6 es: 0.6029556650246305\n",
      "Valor de F1 con un submuestreo de 0.7000000000000001 es: 0.5925925925925927\n",
      "Valor de F1 con un submuestreo de 0.8 es: 0.5846153846153846\n",
      "Valor de F1 con un submuestreo de 0.9 es: 0.5771365149833518\n",
      "Valor de F1 con un submuestreo de 1.0 es: 0.5545454545454546\n",
      "La mejor fracción para el submuestreo es 0.5, y su nivel de calificación es: 0.611214953271028\n"
     ]
    }
   ],
   "source": [
    "modelRF = RandomForestClassifier(random_state = 12345, n_estimators = best_est)\n",
    "\n",
    "best_frac=0\n",
    "best_score=0\n",
    "\n",
    "for frac in np.arange(0.1, 1.1, 0.1):\n",
    "    features_downsampled, target_downsampled=downsample(features_train, target_train, frac)\n",
    "    modelRF.fit(features_downsampled, target_downsampled)\n",
    "    predicted_valid=modelRF.predict(features_valid)\n",
    "    score=f1_score(target_valid, predicted_valid)\n",
    "    print(f'Valor de F1 con un submuestreo de {frac} es: {score}')\n",
    "    if score>best_score:\n",
    "        best_frac = frac\n",
    "        best_score=score\n",
    "\n",
    "print(f'La mejor fracción para el submuestreo es {best_frac}, y su nivel de calificación es: {best_score}')"
   ]
  },
  {
   "cell_type": "markdown",
   "metadata": {},
   "source": [
    "Utilizando el método de bosque aleatorio se obtuvo una calificación de F1 = 0.6112 , con una fracción de 0.5, lo cual tambien supera el valor objetivo\n"
   ]
  },
  {
   "cell_type": "markdown",
   "metadata": {},
   "source": [
    "<div class=\"alert alert-block alert-success\">\n",
    "<b>Comentario del revisor</b> <a class=\"tocSkip\"></a>\n",
    "    \n",
    "Buen trabajo, muy buen despliegue de los modelos, aplicando el concepto de submuestreo.\n",
    "</div>"
   ]
  },
  {
   "cell_type": "markdown",
   "metadata": {},
   "source": [
    "**Observaciones sobre el ajuste de peso de clase realizado**\n",
    "- Se realizó un ajuste de peso de clase utilizando tres métodos diferentes: Ajustando class_weight a 'balanced', utilizando la técnica de sobremuestreo y utilizando técnica de submuestreo. Con los tres métodos se observa que el modelo de Regresión Logística es el que peor resultados genera. Ninguno de los métodos logró llegar al valor mínimo de F1 solicitado.\n",
    "- Las técnicas que mejores resultados obtienen con los ajustes de peso con respecto a F1 son el arbol de decisión y el bosque aleatorio, los cuales superan el límite planteado por el proyecto\n",
    "- Utilizando el ajuste de clase con la opción: class_weight = 'balanced' se logran los mejores valores de F1 para el modelo de arbol de decisión, el cual logra un valor de F1 de 0.59. Los otros dos modelos tambien mejoran su valor de F1 pero no superan el límite establecido para el proyecto.\n",
    "- Con la técnica de sobremuestreo se obtiene que los métodos de arbol de decisión y bosque aleatorio se obtienen valores de F1 muy similares, de aproximadamente 0.60, mientras que para regresión lineal se logra un valor máximo de 0.50, lo cual no es suficiente para el objetivo planteado.\n",
    "- Aplicando un submuestreo se logró para la regresión lineal un valor de F1=0.50, los métodos de arbol de decisión y bosque aleatorio se logró valores de 0.62 y 0.61 respectivamente.\n",
    "- Las técnicas de submuestreo y sobremuestreo generan valores de F1 muy similares para los modelos porbados, sin embargo el submuestreo fue obtuvo resultados ligeramente mejores que el sobremuestreo, por lo que se utilizará esta técnica para los entrenamientos.\n"
   ]
  },
  {
   "cell_type": "markdown",
   "metadata": {},
   "source": [
    "<div class=\"alert alert-block alert-success\">\n",
    "<b>Comentario del revisor</b> <a class=\"tocSkip\"></a>\n",
    "    \n",
    "Excelente trabajo, generas conclusiones muy coherentes e interesantes.\n",
    "</div>"
   ]
  },
  {
   "cell_type": "markdown",
   "metadata": {},
   "source": [
    "## Escogiendo los mejores modelos para el entrenamiento"
   ]
  },
  {
   "cell_type": "markdown",
   "metadata": {},
   "source": [
    "Despues de haber revisado varias técnicas para corregir el desequilibrio de clases se aplicara las técnicas combindas para cada modelo con el fin de obtener el valor de F1 más alto posible. Para esto se aplicaran los modelos de entrenamiento de la siguiente forma:\n",
    "\n",
    "- Para el modelo entrenado con regresión lineal se aplicará el parámetro class_weight='balanced' y un submuestreo con fraccion de 0.3\n",
    "- Para el modelo entrenado con árbol de decisión se aplicará el parámetro class_weight='balanced', una profundidad (max_depth) de 6 y un submuestreo con fracción de 0.6, se realizará dos pruebas, con el parametro class_weight='balanced' y otro sin este parámetro para verificari si se afecta en algo el valor de F1 con este parámetro\n",
    "- Para el modelo entrenado con bosquea aleatorio se aplicará una cantidad de estimadores = 17, tambien se realizará dos pruebas, con el parametro class_weight='balanced' y otro sin este parámetro dado que colocar este parámetro disminuia el valor de F1 y se aplicará un submuestreo con fracción de 0.5"
   ]
  },
  {
   "cell_type": "markdown",
   "metadata": {},
   "source": [
    "**Modelo de regresión lineal con los mejores parámetros:**"
   ]
  },
  {
   "cell_type": "code",
   "execution_count": 54,
   "metadata": {},
   "outputs": [
    {
     "name": "stdout",
     "output_type": "stream",
     "text": [
      "Valor de F1 es: 0.5069860279441119\n"
     ]
    }
   ],
   "source": [
    "modelLRfinal=LogisticRegression(random_state=12345, solver='liblinear', class_weight='balanced')\n",
    "best_frac=0.3\n",
    "features_downsampled, target_downsampled=downsample(features_train, target_train, best_frac)\n",
    "modelLRfinal.fit(features_downsampled, target_downsampled)\n",
    "predicted_valid=modelLRfinal.predict(features_valid)\n",
    "scoreLRfinal=f1_score(target_valid, predicted_valid)\n",
    "print(f'Valor de F1 es: {scoreLRfinal}')\n"
   ]
  },
  {
   "cell_type": "markdown",
   "metadata": {},
   "source": [
    "**Modelo de arbol de decisión con los mejores parámetros**"
   ]
  },
  {
   "cell_type": "code",
   "execution_count": 55,
   "metadata": {},
   "outputs": [
    {
     "name": "stdout",
     "output_type": "stream",
     "text": [
      "Valor de F1 'balanced' es: 0.6144393241167435\n",
      "Valor de F1 sin 'balanced'es: 0.6223091976516635\n"
     ]
    }
   ],
   "source": [
    "#Usando class_weight='balanced'\n",
    "modelDTfinal = DecisionTreeClassifier(random_state=12345, max_depth=best_depth,  class_weight='balanced')\n",
    "best_frac=0.6\n",
    "features_downsampled, target_downsampled=downsample(features_train, target_train, 0.6)\n",
    "modelDTfinal.fit(features_downsampled, target_downsampled)\n",
    "predicted_valid=modelDTfinal.predict(features_valid)\n",
    "scoreDTfinal=f1_score(target_valid, predicted_valid)\n",
    "print(f'Valor de F1 \\'balanced\\' es: {scoreDTfinal}')\n",
    "\n",
    "#Sin usar class_weight='balanced'\n",
    "modelDTfinal = DecisionTreeClassifier(random_state=12345, max_depth=best_depth)\n",
    "best_frac=0.6\n",
    "features_downsampled, target_downsampled=downsample(features_train, target_train, 0.6)\n",
    "modelDTfinal.fit(features_downsampled, target_downsampled)\n",
    "predicted_valid=modelDTfinal.predict(features_valid)\n",
    "scoreDTfinal=f1_score(target_valid, predicted_valid)\n",
    "print(f'Valor de F1 sin \\'balanced\\'es: {scoreDTfinal}')\n"
   ]
  },
  {
   "cell_type": "markdown",
   "metadata": {},
   "source": [
    "**Modelo de bosque aleatorio con los mejores parametros**"
   ]
  },
  {
   "cell_type": "code",
   "execution_count": 56,
   "metadata": {},
   "outputs": [
    {
     "name": "stdout",
     "output_type": "stream",
     "text": [
      "Valor de F1 con 'balanced' es: 0.5906542056074766\n",
      "Valor de F1 sin 'balanced' es: 0.611214953271028\n"
     ]
    }
   ],
   "source": [
    "#Usando class_weight= 'balanced'\n",
    "modelRFfinal = RandomForestClassifier(random_state = 12345, n_estimators = best_est, class_weight='balanced')\n",
    "\n",
    "features_downsampled, target_downsampled=downsample(features_train, target_train, 0.5)\n",
    "modelRFfinal.fit(features_downsampled, target_downsampled)\n",
    "predicted_valid=modelRFfinal.predict(features_valid)\n",
    "scoreRFfinal=f1_score(target_valid, predicted_valid)\n",
    "print(f'Valor de F1 con \\'balanced\\' es: {scoreRFfinal}')\n",
    "\n",
    "#Sin usar class_weight= 'balanced'\n",
    "modelRFfinal = RandomForestClassifier(random_state = 12345, n_estimators = best_est)\n",
    "\n",
    "features_downsampled, target_downsampled=downsample(features_train, target_train, 0.5)\n",
    "modelRFfinal.fit(features_downsampled, target_downsampled)\n",
    "predicted_valid=modelRFfinal.predict(features_valid)\n",
    "scoreRFfinal=f1_score(target_valid, predicted_valid)\n",
    "print(f'Valor de F1 sin \\'balanced\\' es: {scoreRFfinal}')\n",
    "\n",
    "\n"
   ]
  },
  {
   "cell_type": "markdown",
   "metadata": {},
   "source": [
    "**Tabla resumen de los datos encontrados**\n",
    "En la tabla a continuación se resumirá los valores encontrados de F1 despues de utilizar diferentes configuraciones de los parámetros:\n",
    "\n",
    "| Modelo | F1 sin modificar parámetros | F1 class_weight='balanced' | F1 con Sobremuestreo | F1 con Submuestreo | F1 combinando tecnicas|\n",
    "|-----------|-----------|-----------|-----------|-----------|------------|\n",
    "| Regresión Logística| 0.2924| 0.5077| 0.5074 | 0.5065 | 0.569\n",
    "| Arbol de decisión| 0.5443| 0.5907| 0.6006 | 0.6223 | 0.6144\n",
    "| Bosque Aleatorio| 0.5733| 0.5552| 0.6032 | 0.6112 | 0.5906\n",
    "\n"
   ]
  },
  {
   "cell_type": "markdown",
   "metadata": {},
   "source": [
    "**Observaciones**"
   ]
  },
  {
   "cell_type": "markdown",
   "metadata": {},
   "source": [
    "- Se intentó aplicar dos técnicas para solucionar el desequilibrio de clases en los modelos estudiados pero se observa que para el arbol de decisión y pára el bosque aleatorio los valores de F1 se reducen al ser utilizado el parámetro de weigth_class='balanced'\n",
    "- A pesar de lo mencionado en el punto anterior, los métodos de arbol de decisión y bosque aleatorio cumplen con el objetivo de superar un valor de f1 de mínimo 0.59, siendo que el mejor es el modelo de arbol de decisión."
   ]
  },
  {
   "cell_type": "markdown",
   "metadata": {},
   "source": [
    "<div class=\"alert alert-block alert-warning\">\n",
    "<b>Comentario del revisor</b> <a class=\"tocSkip\"></a>\n",
    "    \n",
    "~~Realmente muy buen trabajo, mi única observación en esta sección es que aportaría mucho para el lector poder visualizar una tabla donde se comparen los resultados de estos modelos.~~</div>"
   ]
  },
  {
   "cell_type": "markdown",
   "metadata": {},
   "source": [
    "<div class=\"alert alert-block alert-info\">\n",
    "<b>Se añadió una tabla de comparación de los valores de F1 obtenidos</b> <a class=\"tocSkip\"></a>\n",
    "</div>\n"
   ]
  },
  {
   "cell_type": "markdown",
   "metadata": {},
   "source": [
    "<div class=\"alert alert-block alert-success\">\n",
    "<b>Comentario del revisor #2</b> <a class=\"tocSkip\"></a>\n",
    "    \n",
    "Luce genial la tabla. Buen trabajo.</div>"
   ]
  },
  {
   "cell_type": "markdown",
   "metadata": {},
   "source": [
    "## Ajuste de umbral"
   ]
  },
  {
   "cell_type": "markdown",
   "metadata": {},
   "source": [
    "Una vez analizados los modelos con los parámetros que dan los mejores valores de f1 vamos a analizar que sucede con el ajuste de umbral y tambien se analizará de forma gráfica mediante el uso "
   ]
  },
  {
   "cell_type": "code",
   "execution_count": 57,
   "metadata": {
    "scrolled": true
   },
   "outputs": [
    {
     "name": "stdout",
     "output_type": "stream",
     "text": [
      "Threshold = 0.00 | Precision = 0.214, Recall = 1.000\n",
      "Threshold = 0.02 | Precision = 0.215, Recall = 1.000\n",
      "Threshold = 0.04 | Precision = 0.226, Recall = 0.981\n",
      "Threshold = 0.06 | Precision = 0.244, Recall = 0.955\n",
      "Threshold = 0.08 | Precision = 0.263, Recall = 0.931\n",
      "Threshold = 0.10 | Precision = 0.283, Recall = 0.895\n",
      "Threshold = 0.12 | Precision = 0.305, Recall = 0.856\n",
      "Threshold = 0.14 | Precision = 0.328, Recall = 0.821\n",
      "Threshold = 0.16 | Precision = 0.347, Recall = 0.779\n",
      "Threshold = 0.18 | Precision = 0.368, Recall = 0.750\n",
      "Threshold = 0.20 | Precision = 0.387, Recall = 0.707\n",
      "Threshold = 0.22 | Precision = 0.407, Recall = 0.667\n",
      "Threshold = 0.24 | Precision = 0.421, Recall = 0.636\n",
      "Threshold = 0.26 | Precision = 0.435, Recall = 0.602\n",
      "Threshold = 0.28 | Precision = 0.448, Recall = 0.550\n",
      "Threshold = 0.30 | Precision = 0.467, Recall = 0.508\n",
      "Threshold = 0.32 | Precision = 0.479, Recall = 0.465\n",
      "Threshold = 0.34 | Precision = 0.492, Recall = 0.434\n",
      "Threshold = 0.36 | Precision = 0.506, Recall = 0.389\n",
      "Threshold = 0.38 | Precision = 0.525, Recall = 0.355\n",
      "Threshold = 0.40 | Precision = 0.529, Recall = 0.329\n",
      "Threshold = 0.42 | Precision = 0.537, Recall = 0.299\n",
      "Threshold = 0.44 | Precision = 0.543, Recall = 0.280\n",
      "Threshold = 0.46 | Precision = 0.555, Recall = 0.254\n",
      "Threshold = 0.48 | Precision = 0.565, Recall = 0.226\n",
      "Threshold = 0.50 | Precision = 0.574, Recall = 0.196\n",
      "Threshold = 0.52 | Precision = 0.610, Recall = 0.176\n",
      "Threshold = 0.54 | Precision = 0.631, Recall = 0.166\n",
      "Threshold = 0.56 | Precision = 0.633, Recall = 0.142\n",
      "Threshold = 0.58 | Precision = 0.615, Recall = 0.120\n",
      "Threshold = 0.60 | Precision = 0.578, Recall = 0.090\n",
      "Threshold = 0.62 | Precision = 0.597, Recall = 0.080\n",
      "Threshold = 0.64 | Precision = 0.623, Recall = 0.071\n",
      "Threshold = 0.66 | Precision = 0.612, Recall = 0.056\n",
      "Threshold = 0.68 | Precision = 0.605, Recall = 0.043\n",
      "Threshold = 0.70 | Precision = 0.613, Recall = 0.036\n",
      "Threshold = 0.72 | Precision = 0.556, Recall = 0.028\n",
      "Threshold = 0.74 | Precision = 0.550, Recall = 0.021\n",
      "Threshold = 0.76 | Precision = 0.550, Recall = 0.021\n",
      "Threshold = 0.78 | Precision = 0.467, Recall = 0.013\n",
      "Threshold = 0.80 | Precision = 0.300, Recall = 0.006\n",
      "Threshold = 0.82 | Precision = 0.333, Recall = 0.004\n",
      "Threshold = 0.84 | Precision = 0.333, Recall = 0.004\n",
      "Threshold = 0.86 | Precision = 0.667, Recall = 0.004\n",
      "Threshold = 0.88 | Precision = 0.667, Recall = 0.004\n",
      "Threshold = 0.90 | Precision = 0.000, Recall = 0.000\n",
      "Threshold = 0.92 | Precision = 0.000, Recall = 0.000\n",
      "Threshold = 0.94 | Precision = 0.000, Recall = 0.000\n",
      "Threshold = 0.96 | Precision = 0.000, Recall = 0.000\n",
      "Threshold = 0.98 | Precision = 0.000, Recall = 0.000\n"
     ]
    },
    {
     "name": "stderr",
     "output_type": "stream",
     "text": [
      "/opt/conda/lib/python3.9/site-packages/sklearn/metrics/_classification.py:1245: UndefinedMetricWarning: Precision is ill-defined and being set to 0.0 due to no predicted samples. Use `zero_division` parameter to control this behavior.\n",
      "  _warn_prf(average, modifier, msg_start, len(result))\n",
      "/opt/conda/lib/python3.9/site-packages/sklearn/metrics/_classification.py:1245: UndefinedMetricWarning: Precision is ill-defined and being set to 0.0 due to no predicted samples. Use `zero_division` parameter to control this behavior.\n",
      "  _warn_prf(average, modifier, msg_start, len(result))\n",
      "/opt/conda/lib/python3.9/site-packages/sklearn/metrics/_classification.py:1245: UndefinedMetricWarning: Precision is ill-defined and being set to 0.0 due to no predicted samples. Use `zero_division` parameter to control this behavior.\n",
      "  _warn_prf(average, modifier, msg_start, len(result))\n",
      "/opt/conda/lib/python3.9/site-packages/sklearn/metrics/_classification.py:1245: UndefinedMetricWarning: Precision is ill-defined and being set to 0.0 due to no predicted samples. Use `zero_division` parameter to control this behavior.\n",
      "  _warn_prf(average, modifier, msg_start, len(result))\n"
     ]
    }
   ],
   "source": [
    "modelLRfinal.fit(features_train, target_train)\n",
    "probabilities_valid_LR=modelLR.predict_proba(features_valid)\n",
    "probabilities_one_valid_LR = probabilities_valid_LR[:,1]\n",
    "\n",
    "for threshold in np.arange(0, 1.0 , 0.02):\n",
    "    predicted_valid_LR = probabilities_one_valid_LR > threshold\n",
    "    precision_LR = precision_score(target_valid, predicted_valid_LR)\n",
    "    recall_LR = recall_score(target_valid, predicted_valid_LR)\n",
    "    \n",
    "    print('Threshold = {:.2f} | Precision = {:.3f}, Recall = {:.3f}'.format(threshold, precision_LR, recall_LR))\n",
    "    \n"
   ]
  },
  {
   "cell_type": "code",
   "execution_count": 58,
   "metadata": {},
   "outputs": [
    {
     "data": {
      "image/png": "[encoded data removed]",
      "text/plain": [
       "<Figure size 432x432 with 1 Axes>"
      ]
     },
     "metadata": {
      "needs_background": "light"
     },
     "output_type": "display_data"
    }
   ],
   "source": [
    "precision_c, recall_c, thresholds = precision_recall_curve(target_valid, probabilities_valid_LR[:,1])\n",
    "\n",
    "plt.figure(figsize=(6, 6))\n",
    "plt.step(recall_c, precision_c, where='post')\n",
    "plt.xlabel('Recall')\n",
    "plt.ylabel('Precision')\n",
    "plt.ylim([0.0, 1.05])\n",
    "plt.xlim([0.0, 1.0])\n",
    "plt.title('Precision-Recall Curve')\n",
    "plt.show() "
   ]
  },
  {
   "cell_type": "code",
   "execution_count": 59,
   "metadata": {
    "scrolled": true
   },
   "outputs": [
    {
     "name": "stdout",
     "output_type": "stream",
     "text": [
      "Threshold = 0.00 | Precision = 0.214, Recall = 0.996\n",
      "Threshold = 0.02 | Precision = 0.254, Recall = 0.978\n",
      "Threshold = 0.04 | Precision = 0.254, Recall = 0.978\n",
      "Threshold = 0.06 | Precision = 0.309, Recall = 0.935\n",
      "Threshold = 0.08 | Precision = 0.311, Recall = 0.921\n",
      "Threshold = 0.10 | Precision = 0.405, Recall = 0.837\n",
      "Threshold = 0.12 | Precision = 0.452, Recall = 0.813\n",
      "Threshold = 0.14 | Precision = 0.461, Recall = 0.804\n",
      "Threshold = 0.16 | Precision = 0.483, Recall = 0.781\n",
      "Threshold = 0.18 | Precision = 0.483, Recall = 0.781\n",
      "Threshold = 0.20 | Precision = 0.483, Recall = 0.781\n",
      "Threshold = 0.22 | Precision = 0.483, Recall = 0.781\n",
      "Threshold = 0.24 | Precision = 0.533, Recall = 0.720\n",
      "Threshold = 0.26 | Precision = 0.537, Recall = 0.720\n",
      "Threshold = 0.28 | Precision = 0.556, Recall = 0.705\n",
      "Threshold = 0.30 | Precision = 0.565, Recall = 0.677\n",
      "Threshold = 0.32 | Precision = 0.615, Recall = 0.583\n",
      "Threshold = 0.34 | Precision = 0.619, Recall = 0.579\n",
      "Threshold = 0.36 | Precision = 0.748, Recall = 0.477\n",
      "Threshold = 0.38 | Precision = 0.748, Recall = 0.477\n",
      "Threshold = 0.40 | Precision = 0.748, Recall = 0.477\n",
      "Threshold = 0.42 | Precision = 0.748, Recall = 0.477\n",
      "Threshold = 0.44 | Precision = 0.820, Recall = 0.409\n",
      "Threshold = 0.46 | Precision = 0.820, Recall = 0.409\n",
      "Threshold = 0.48 | Precision = 0.820, Recall = 0.409\n",
      "Threshold = 0.50 | Precision = 0.820, Recall = 0.407\n",
      "Threshold = 0.52 | Precision = 0.820, Recall = 0.407\n",
      "Threshold = 0.54 | Precision = 0.820, Recall = 0.407\n",
      "Threshold = 0.56 | Precision = 0.820, Recall = 0.407\n",
      "Threshold = 0.58 | Precision = 0.820, Recall = 0.407\n",
      "Threshold = 0.60 | Precision = 0.820, Recall = 0.407\n",
      "Threshold = 0.62 | Precision = 0.853, Recall = 0.357\n",
      "Threshold = 0.64 | Precision = 0.853, Recall = 0.357\n",
      "Threshold = 0.66 | Precision = 0.853, Recall = 0.357\n",
      "Threshold = 0.68 | Precision = 0.861, Recall = 0.290\n",
      "Threshold = 0.70 | Precision = 0.861, Recall = 0.290\n",
      "Threshold = 0.72 | Precision = 0.861, Recall = 0.290\n",
      "Threshold = 0.74 | Precision = 0.861, Recall = 0.290\n",
      "Threshold = 0.76 | Precision = 0.887, Recall = 0.250\n",
      "Threshold = 0.78 | Precision = 0.887, Recall = 0.250\n",
      "Threshold = 0.80 | Precision = 0.897, Recall = 0.243\n",
      "Threshold = 0.82 | Precision = 0.897, Recall = 0.243\n",
      "Threshold = 0.84 | Precision = 0.897, Recall = 0.243\n",
      "Threshold = 0.86 | Precision = 0.897, Recall = 0.243\n",
      "Threshold = 0.88 | Precision = 0.912, Recall = 0.213\n",
      "Threshold = 0.90 | Precision = 0.912, Recall = 0.213\n",
      "Threshold = 0.92 | Precision = 0.933, Recall = 0.105\n",
      "Threshold = 0.94 | Precision = 0.933, Recall = 0.105\n",
      "Threshold = 0.96 | Precision = 0.933, Recall = 0.105\n",
      "Threshold = 0.98 | Precision = 0.942, Recall = 0.092\n"
     ]
    }
   ],
   "source": [
    "modelDTfinal = DecisionTreeClassifier(random_state=12345, max_depth=best_depth)\n",
    "\n",
    "modelDTfinal.fit(features_train, target_train)\n",
    "probabilities_valid_DT=modelDTfinal.predict_proba(features_valid)\n",
    "probabilities_one_valid_DT = probabilities_valid_DT[:,1]\n",
    "\n",
    "for threshold in np.arange(0, 1.0 , 0.02):\n",
    "    predicted_valid_DT = probabilities_one_valid_DT > threshold\n",
    "    precision_DT = precision_score(target_valid, predicted_valid_DT)\n",
    "    recall_DT = recall_score(target_valid, predicted_valid_DT)\n",
    "    \n",
    "    print('Threshold = {:.2f} | Precision = {:.3f}, Recall = {:.3f}'.format(threshold, precision_DT, recall_DT))\n",
    "    \n"
   ]
  },
  {
   "cell_type": "code",
   "execution_count": 60,
   "metadata": {},
   "outputs": [
    {
     "data": {
      "image/png": "[encoded data removed]",
      "text/plain": [
       "<Figure size 432x432 with 1 Axes>"
      ]
     },
     "metadata": {
      "needs_background": "light"
     },
     "output_type": "display_data"
    }
   ],
   "source": [
    "precision_c, recall_c, thresholds = precision_recall_curve(target_valid, probabilities_valid_DT[:,1])\n",
    "\n",
    "plt.figure(figsize=(6, 6))\n",
    "plt.step(recall_c, precision_c, where='post')\n",
    "plt.xlabel('Recall')\n",
    "plt.ylabel('Precision')\n",
    "plt.ylim([0.0, 1.05])\n",
    "plt.xlim([0.0, 1.0])\n",
    "plt.title('Precision-Recall Curve')\n",
    "plt.show() "
   ]
  },
  {
   "cell_type": "code",
   "execution_count": 61,
   "metadata": {
    "scrolled": true
   },
   "outputs": [
    {
     "name": "stdout",
     "output_type": "stream",
     "text": [
      "Threshold = 0.00 | Precision = 0.268, Recall = 0.936\n",
      "Threshold = 0.02 | Precision = 0.268, Recall = 0.936\n",
      "Threshold = 0.04 | Precision = 0.268, Recall = 0.936\n",
      "Threshold = 0.06 | Precision = 0.338, Recall = 0.895\n",
      "Threshold = 0.08 | Precision = 0.338, Recall = 0.895\n",
      "Threshold = 0.10 | Precision = 0.338, Recall = 0.895\n",
      "Threshold = 0.12 | Precision = 0.402, Recall = 0.834\n",
      "Threshold = 0.14 | Precision = 0.402, Recall = 0.834\n",
      "Threshold = 0.16 | Precision = 0.402, Recall = 0.834\n",
      "Threshold = 0.18 | Precision = 0.454, Recall = 0.768\n",
      "Threshold = 0.20 | Precision = 0.454, Recall = 0.768\n",
      "Threshold = 0.22 | Precision = 0.454, Recall = 0.768\n",
      "Threshold = 0.24 | Precision = 0.521, Recall = 0.699\n",
      "Threshold = 0.26 | Precision = 0.521, Recall = 0.699\n",
      "Threshold = 0.28 | Precision = 0.521, Recall = 0.699\n",
      "Threshold = 0.30 | Precision = 0.580, Recall = 0.626\n",
      "Threshold = 0.32 | Precision = 0.580, Recall = 0.626\n",
      "Threshold = 0.34 | Precision = 0.580, Recall = 0.626\n",
      "Threshold = 0.36 | Precision = 0.654, Recall = 0.557\n",
      "Threshold = 0.38 | Precision = 0.654, Recall = 0.557\n",
      "Threshold = 0.40 | Precision = 0.654, Recall = 0.557\n",
      "Threshold = 0.42 | Precision = 0.696, Recall = 0.505\n",
      "Threshold = 0.44 | Precision = 0.696, Recall = 0.505\n",
      "Threshold = 0.46 | Precision = 0.696, Recall = 0.505\n",
      "Threshold = 0.48 | Precision = 0.742, Recall = 0.467\n",
      "Threshold = 0.50 | Precision = 0.742, Recall = 0.467\n",
      "Threshold = 0.52 | Precision = 0.742, Recall = 0.467\n",
      "Threshold = 0.54 | Precision = 0.774, Recall = 0.404\n",
      "Threshold = 0.56 | Precision = 0.774, Recall = 0.404\n",
      "Threshold = 0.58 | Precision = 0.774, Recall = 0.404\n",
      "Threshold = 0.60 | Precision = 0.807, Recall = 0.359\n",
      "Threshold = 0.62 | Precision = 0.807, Recall = 0.359\n",
      "Threshold = 0.64 | Precision = 0.807, Recall = 0.359\n",
      "Threshold = 0.66 | Precision = 0.824, Recall = 0.297\n",
      "Threshold = 0.68 | Precision = 0.824, Recall = 0.297\n",
      "Threshold = 0.70 | Precision = 0.824, Recall = 0.297\n",
      "Threshold = 0.72 | Precision = 0.865, Recall = 0.250\n",
      "Threshold = 0.74 | Precision = 0.865, Recall = 0.250\n",
      "Threshold = 0.76 | Precision = 0.865, Recall = 0.250\n",
      "Threshold = 0.78 | Precision = 0.902, Recall = 0.189\n",
      "Threshold = 0.80 | Precision = 0.902, Recall = 0.189\n",
      "Threshold = 0.82 | Precision = 0.902, Recall = 0.189\n",
      "Threshold = 0.84 | Precision = 0.941, Recall = 0.150\n",
      "Threshold = 0.86 | Precision = 0.941, Recall = 0.150\n",
      "Threshold = 0.88 | Precision = 0.941, Recall = 0.150\n",
      "Threshold = 0.90 | Precision = 0.956, Recall = 0.080\n",
      "Threshold = 0.92 | Precision = 0.956, Recall = 0.080\n",
      "Threshold = 0.94 | Precision = 0.956, Recall = 0.080\n",
      "Threshold = 0.96 | Precision = 0.818, Recall = 0.017\n",
      "Threshold = 0.98 | Precision = 0.818, Recall = 0.017\n"
     ]
    }
   ],
   "source": [
    "modelRFfinal = RandomForestClassifier(random_state = 12345, n_estimators = best_est)\n",
    "\n",
    "modelRFfinal.fit(features_train, target_train)\n",
    "probabilities_valid_RF=modelRFfinal.predict_proba(features_valid)\n",
    "probabilities_one_valid_RF = probabilities_valid_RF[:,1]\n",
    "\n",
    "for threshold in np.arange(0, 1.0 , 0.02):\n",
    "    predicted_valid_RF = probabilities_one_valid_RF > threshold\n",
    "    precision_RF = precision_score(target_valid, predicted_valid_RF)\n",
    "    recall_RF = recall_score(target_valid, predicted_valid_RF)\n",
    "    \n",
    "    print('Threshold = {:.2f} | Precision = {:.3f}, Recall = {:.3f}'.format(threshold, precision_RF, recall_RF))\n",
    "    "
   ]
  },
  {
   "cell_type": "code",
   "execution_count": 62,
   "metadata": {},
   "outputs": [
    {
     "data": {
      "image/png": "[encoded data removed]",
      "text/plain": [
       "<Figure size 432x432 with 1 Axes>"
      ]
     },
     "metadata": {
      "needs_background": "light"
     },
     "output_type": "display_data"
    }
   ],
   "source": [
    "precision_c, recall_c, thresholds = precision_recall_curve(target_valid, probabilities_valid_RF[:,1])\n",
    "\n",
    "plt.figure(figsize=(6, 6))\n",
    "plt.step(recall_c, precision_c, where='post')\n",
    "plt.xlabel('Recall')\n",
    "plt.ylabel('Precision')\n",
    "plt.ylim([0.0, 1.05])\n",
    "plt.xlim([0.0, 1.0])\n",
    "plt.title('Precision-Recall Curve')\n",
    "plt.show() "
   ]
  },
  {
   "cell_type": "markdown",
   "metadata": {},
   "source": [
    "Observaciones sobre los ajustes de umbral:\n",
    "- Se observa que para el modelo de Regresión lineal la curva de precision vs recall crece hasta cierto nivel, para luego decaer poco a poco \n",
    "- Las curvas para los modelos de arbol de decisión y bosque aleatorio son muy similares, y se observa que tiene un nivel de altura suficientemente bueno para el objetivo del proyecto"
   ]
  },
  {
   "cell_type": "markdown",
   "metadata": {},
   "source": [
    "## Revision de la curva ROC\n",
    "Ahora se analizará la curva de ROC para evaluar como se comportan los modelos "
   ]
  },
  {
   "cell_type": "code",
   "execution_count": 63,
   "metadata": {},
   "outputs": [],
   "source": [
    "def roc_curve_func(target_valid_f, probabilities_one_valid_f):\n",
    "    fpr, tpr, thresholds = roc_curve(target_valid_f, probabilities_one_valid_f)\n",
    "\n",
    "    plt.figure()\n",
    "    plt.plot(fpr, tpr)\n",
    "\n",
    "    # Curva ROC para modelo aleatorio \n",
    "    plt.plot([0, 1], [0, 1], linestyle='--')\n",
    "\n",
    "    # < utiliza las funciones plt.xlim() y plt.ylim() para\n",
    "    #   establecer el límite para los ejes de 0 a 1 >\n",
    "\n",
    "    plt.xlim([0.0, 1.0])\n",
    "    plt.ylim([0.0, 1.0])\n",
    "\n",
    "    # < utiliza las funciones plt.xlabel() y plt.ylabel() para\n",
    "    #   nombrar los ejes \"Tasa de falsos positivos\" y \"Tasa de verdaderos positivos\">\n",
    "    plt.xlabel('Tasa de falsos positivos')\n",
    "    plt.ylabel('Tasa de verdaderos positivos')\n",
    "\n",
    "    # < agrega el encabezado \"Curva ROC\" con la función plt.title() >\n",
    "    plt.title('Curva ROC')\n",
    "\n",
    "\n",
    "    plt.show()"
   ]
  },
  {
   "cell_type": "code",
   "execution_count": 64,
   "metadata": {
    "scrolled": true
   },
   "outputs": [
    {
     "data": {
      "image/png": "[encoded data removed]",
      "text/plain": [
       "<Figure size 432x288 with 1 Axes>"
      ]
     },
     "metadata": {
      "needs_background": "light"
     },
     "output_type": "display_data"
    }
   ],
   "source": [
    "roc_curve_func(target_valid, probabilities_one_valid_LR)"
   ]
  },
  {
   "cell_type": "code",
   "execution_count": 65,
   "metadata": {},
   "outputs": [
    {
     "data": {
      "image/png": "[encoded data removed]",
      "text/plain": [
       "<Figure size 432x288 with 1 Axes>"
      ]
     },
     "metadata": {
      "needs_background": "light"
     },
     "output_type": "display_data"
    }
   ],
   "source": [
    "roc_curve_func(target_valid, probabilities_one_valid_DT)"
   ]
  },
  {
   "cell_type": "code",
   "execution_count": 66,
   "metadata": {},
   "outputs": [
    {
     "data": {
      "image/png": "[encoded data removed]",
      "text/plain": [
       "<Figure size 432x288 with 1 Axes>"
      ]
     },
     "metadata": {
      "needs_background": "light"
     },
     "output_type": "display_data"
    }
   ],
   "source": [
    "roc_curve_func(target_valid, probabilities_one_valid_RF)"
   ]
  },
  {
   "cell_type": "code",
   "execution_count": 67,
   "metadata": {},
   "outputs": [
    {
     "data": {
      "text/plain": [
       "0.7586540153622982"
      ]
     },
     "execution_count": 67,
     "metadata": {},
     "output_type": "execute_result"
    }
   ],
   "source": [
    "auc_roc=roc_auc_score(target_valid, probabilities_one_valid_LR)\n",
    "auc_roc"
   ]
  },
  {
   "cell_type": "code",
   "execution_count": 68,
   "metadata": {},
   "outputs": [
    {
     "data": {
      "text/plain": [
       "0.8463808232860098"
      ]
     },
     "execution_count": 68,
     "metadata": {},
     "output_type": "execute_result"
    }
   ],
   "source": [
    "auc_roc=roc_auc_score(target_valid, probabilities_one_valid_DT)\n",
    "auc_roc"
   ]
  },
  {
   "cell_type": "code",
   "execution_count": 69,
   "metadata": {},
   "outputs": [
    {
     "data": {
      "text/plain": [
       "0.8327963663170912"
      ]
     },
     "execution_count": 69,
     "metadata": {},
     "output_type": "execute_result"
    }
   ],
   "source": [
    "auc_roc=roc_auc_score(target_valid, probabilities_one_valid_RF)\n",
    "auc_roc"
   ]
  },
  {
   "cell_type": "markdown",
   "metadata": {},
   "source": [
    "**Observaciones sobre la curva de ROC:**\n",
    "- El modelo que logra el mejor valor de AUC-ROC es el de arbol de decisión, mientras que el modelo que peor valor de AUC-ROC logra es el de regresión logística."
   ]
  },
  {
   "cell_type": "markdown",
   "metadata": {},
   "source": [
    "<div class=\"alert alert-block alert-success\">\n",
    "<b>Comentario del revisor</b> <a class=\"tocSkip\"></a>\n",
    "    \n",
    "Buen trabajo, realmente que te felicito por el nivel de código, conclusiones y despliegue de proyecto que gas generado en cada una de las secciones.</div>"
   ]
  },
  {
   "cell_type": "markdown",
   "metadata": {},
   "source": [
    "## Conclusiones\n",
    "Una vez realizado el análisis de la base de datos entregada y aplicar a estos datos modelos de para predicción, se ha obtenido las siguientes conclusiones:"
   ]
  },
  {
   "cell_type": "markdown",
   "metadata": {},
   "source": [
    "- A los datos obtenidos inicialmente no se les detectaron problemas de datos repetidos o con errores de tipeo, por lo que no se requirió de muchas modificaciones aparte de rellenar datos ausentes en la columna Tenure\n",
    "- Se eliminaron columnas de la base de datos que no iban a aportar al modelo de predicción como: CustomerId, Surname y RowNumber.\n",
    "- Se realizó una codificación OHE para los datos categóricos y se aplico una escala estandar para las variables categoricas para normalizar los datos y que todos sean numéricos\n",
    "- Se realizó un análisis del equilibrio de clases y se detectó que de forma genera los datos tienden a tener el valor de 0 en 'Exited' en aproximadamente el 80% de los casos, por lo que realizar predicciones sin tener en cuenta esto nos iba a dar que un modelo constante tenga una efectividad del 80%, siendo que se debía tratar este problema.\n",
    "- El modelo de regresión logística, utilizando los parámetros básicos dio un valor precisión y recall muy bajo, por lo tanto el valor de F1 tambien fue muy bajo. Este modelo mejoró aplicando un ajuste de peso con el parámetro class_weight = 'balanced', con lo que se logró una mejora sustancial, pero que no llegó a los niveles necesarios. Se aplicó tecnicas de submuestreo y sobre muestreo pero no se logró niveles mejores de F1. Este es el podelo que dio los peores resultados para F1.\n",
    "- El modelo de Arbol de decisión, sin modificar algun parámetro logra valores de precision y recall decentes, siendo que la precisión es alta, pero el recall es de aproximadamente 0.40. Se logró un valor de F1 de 0.54 pero era insuficiente para los objetivos del proyecto. Primero se intento mejorar ajustando el parámetro de class_weight='balanced' y el valor de F1 mejoró hasta 0.59, con lo cual ya se logró superar el umbral establecido. Con el fin de buscar un resultado mejor se utilizó técnicas de submuestreo y sobremuestreo y se logró el mejor valor de F1 con un submuestreo de fracción 0.6. El valor de F1 máximo alcanzado fue de 0.622, siendo este el mejor valor logrado entre los tres modelos estudiados.\n",
    "- Con el modelo de Bosque Aleatorio, con los parámetros predeterminados se logró valores de precisión y recall decetes, al igual que con el arbol de decisión, solo que se logró un nivel de recall un poco mejor, pero decayó el nivel de precisión. Este modelo no logró el valor de F1 requerido. Modificando el parámetro de class_weight='balanced' se disminuyó el valor de F1, por lo que para este método no es óptimo mover este parámetro. Utilizando técnicas de sobremuestreo y submuestreo se logro mejorar el valor de F1, superando los 0.6 puntos. El mejor valor que se logró fue de 0.612 utilizando la técnica de submuestreo.\n",
    "- Para los modelos de árbol de decisión y bosque aleatorio se decidió no modificar el parámetro de class_weight dado que al utilizar la opción 'balanced' los valores de F1 disminuían. Para el modelo de Regresión logística impactaba mucho aplicar esta opción dado que mejoraba sustancialmente el valor de F1.\n",
    "- Se realió un análisis tambien de los modelos realizando ajuste de umbral y graficando la curva de Precisión vs Recall, donde se observó que para el modelo de regresión logística se tenía una curva que daba un pico en aproximadamente 0.62 de precisión y en 0.2 de recall, despues del cual iba decayendo.\n",
    "- Para los modelos de árbol de decisión y bosque aleatorio la curva se comportaba de manera diferente, sin mostrar ningun pico y decayendo la precisión conforme aumentaba el recall.\n",
    "- Se analizó las curvas ROC de los tres modelos y se observó que los modelos de Arbol de decisión y Bosque aleatorio era los que mejores resultados obtenían, sin embargo ninguno de los tres logró un valor cercano a 1 de auc_roc, siendo que el modelo de árbol de decisión fue el mejor dando un valor de 0.84.\n"
   ]
  },
  {
   "cell_type": "markdown",
   "metadata": {},
   "source": [
    "<div class=\"alert alert-block alert-success\">\n",
    "<b>Comentario del revisor</b> <a class=\"tocSkip\"></a>\n",
    "\n",
    "Hola Leandro, reitero mis felicitaciones por el desarrollo general el proyecto, todo eso te llevo a poder plantear unas conclusiones estructuradas de muy buena manera y muy interesantes.</div>"
   ]
  },
  {
   "cell_type": "markdown",
   "metadata": {},
   "source": [
    "<div class=\"alert alert-block alert-warning\">\n",
    "<b>Comentario del revisor</b> <a class=\"tocSkip\"></a>\n",
    "    \n",
    "# Comentario General\n",
    "\n",
    "~~Hola Leandro, deje un comentario en amarillo con una idea que se me ocurrió, luciría genial en tu proyecto; sin embargo, todo está muy bien desarrollo. Buen trabajo.~~</div>\n",
    "\n",
    "<div class=\"alert alert-block alert-success\">\n",
    "<b>Comentario del revisor</b> <a class=\"tocSkip\"></a>\n",
    "    \n",
    "# Comentario General #2\n",
    "\n",
    "Hola Leandro, te felicito por el gran proyecto que acabas de desarrollar. Buen trabajo. </div>"
   ]
  }
 ],
 "metadata": {
  "kernelspec": {
   "display_name": "Python 3 (ipykernel)",
   "language": "python",
   "name": "python3"
  },
  "language_info": {
   "codemirror_mode": {
    "name": "ipython",
    "version": 3
   },
   "file_extension": ".py",
   "mimetype": "text/x-python",
   "name": "python",
   "nbconvert_exporter": "python",
   "pygments_lexer": "ipython3",
   "version": "3.9.19"
  },
  "toc": {
   "base_numbering": 1,
   "nav_menu": {},
   "number_sections": true,
   "sideBar": true,
   "skip_h1_title": true,
   "title_cell": "Table of Contents",
   "title_sidebar": "Contents",
   "toc_cell": false,
   "toc_position": {
    "height": "calc(100% - 180px)",
    "left": "10px",
    "top": "150px",
    "width": "303.984px"
   },
   "toc_section_display": true,
   "toc_window_display": true
  }
 },
 "nbformat": 4,
 "nbformat_minor": 2
}
